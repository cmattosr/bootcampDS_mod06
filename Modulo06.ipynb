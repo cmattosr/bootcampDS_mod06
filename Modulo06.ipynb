{
 "cells": [
  {
   "cell_type": "code",
   "execution_count": 2,
   "metadata": {},
   "outputs": [],
   "source": [
    "import pandas as pd"
   ]
  },
  {
   "cell_type": "code",
   "execution_count": 3,
   "metadata": {},
   "outputs": [],
   "source": [
    "df_clientes_cadastrados = pd.read_csv(\"https://github.com/cmattosr/bootcampDS_mod06/raw/main/dados/clientes_cadastrados.csv\")"
   ]
  },
  {
   "cell_type": "code",
   "execution_count": 4,
   "metadata": {},
   "outputs": [
    {
     "data": {
      "text/plain": [
       "(438557, 18)"
      ]
     },
     "execution_count": 4,
     "metadata": {},
     "output_type": "execute_result"
    }
   ],
   "source": [
    "df_clientes_cadastrados.shape"
   ]
  },
  {
   "cell_type": "code",
   "execution_count": 5,
   "metadata": {},
   "outputs": [
    {
     "data": {
      "text/plain": [
       "7045794    2\n",
       "7636389    2\n",
       "7046068    2\n",
       "7052812    2\n",
       "7742298    2\n",
       "          ..\n",
       "5709384    1\n",
       "5727815    1\n",
       "5729862    1\n",
       "6780485    1\n",
       "6293503    1\n",
       "Name: ID_Cliente, Length: 438510, dtype: int64"
      ]
     },
     "execution_count": 5,
     "metadata": {},
     "output_type": "execute_result"
    }
   ],
   "source": [
    "#Verificar se há clientes repetidos\n",
    "df_clientes_cadastrados[\"ID_Cliente\"].value_counts()"
   ]
  },
  {
   "cell_type": "code",
   "execution_count": 6,
   "metadata": {},
   "outputs": [
    {
     "data": {
      "text/plain": [
       "0"
      ]
     },
     "execution_count": 6,
     "metadata": {},
     "output_type": "execute_result"
    }
   ],
   "source": [
    "#Há clientes repetidos neste dataframe (ID_Cliente)\n",
    "\n",
    "#Verificar se ha linhas duplicadas (utilizamos o sum, se houver duplicatas será somado o valor 1 para cada ocorrência)\n",
    "df_clientes_cadastrados.duplicated().sum()"
   ]
  },
  {
   "cell_type": "code",
   "execution_count": 7,
   "metadata": {},
   "outputs": [
    {
     "data": {
      "text/plain": [
       "(94, 18)"
      ]
     },
     "execution_count": 7,
     "metadata": {},
     "output_type": "execute_result"
    }
   ],
   "source": [
    "#não há linhas duplicadas\n",
    "\n",
    "#verificar quanto são os clientes repetidos, o keep=False contabiliza todas as ocorrências com IDs iguais, o valor default True contabiliza apenas a duplicata\n",
    "df_clientes_cadastrados[df_clientes_cadastrados[\"ID_Cliente\"].duplicated(keep=False)].shape"
   ]
  },
  {
   "cell_type": "code",
   "execution_count": 8,
   "metadata": {},
   "outputs": [
    {
     "data": {
      "text/plain": [
       "421211    7702516\n",
       "421268    7602432\n",
       "421349    7602432\n",
       "421464    7836971\n",
       "421698    7213374\n",
       "           ...   \n",
       "433158    7282535\n",
       "433159    7742853\n",
       "433217    7135270\n",
       "433666    7091721\n",
       "433789    7618285\n",
       "Name: ID_Cliente, Length: 94, dtype: int64"
      ]
     },
     "execution_count": 8,
     "metadata": {},
     "output_type": "execute_result"
    }
   ],
   "source": [
    "#Há 94 clientes repetidos (na verdade 47 aparecem duas vezes)\n",
    "#Essas linhas serão removidas pois são irrelevantes considerando o total do dataframe (94 repetidos em 438557 linhas), mas serão armazenadas separadamente\n",
    "id_repetidos = df_clientes_cadastrados[df_clientes_cadastrados[\"ID_Cliente\"].duplicated(keep=False)][\"ID_Cliente\"]\n",
    "id_repetidos"
   ]
  },
  {
   "cell_type": "markdown",
   "metadata": {},
   "source": [
    "## Desafio 01: Explorar o motivo pelo qual há clientes repetidos no dataframe"
   ]
  },
  {
   "cell_type": "code",
   "execution_count": 9,
   "metadata": {},
   "outputs": [
    {
     "data": {
      "text/plain": [
       "(438463, 18)"
      ]
     },
     "execution_count": 9,
     "metadata": {},
     "output_type": "execute_result"
    }
   ],
   "source": [
    "#remover as linhas com clientes repetidos, que já estão armazenados em id_repetidos\n",
    "df_clientes_cadastrados_unicos = df_clientes_cadastrados.drop(id_repetidos.index)\n",
    "df_clientes_cadastrados_unicos.shape"
   ]
  },
  {
   "cell_type": "code",
   "execution_count": 10,
   "metadata": {},
   "outputs": [
    {
     "data": {
      "text/plain": [
       "6291456    1\n",
       "6480139    1\n",
       "6486280    1\n",
       "5409030    1\n",
       "6463747    1\n",
       "          ..\n",
       "6569516    1\n",
       "6690720    1\n",
       "6583845    1\n",
       "6575649    1\n",
       "6293503    1\n",
       "Name: ID_Cliente, Length: 438463, dtype: int64"
      ]
     },
     "execution_count": 10,
     "metadata": {},
     "output_type": "execute_result"
    }
   ],
   "source": [
    "#checar se ainda há clientes repetidos\n",
    "df_clientes_cadastrados_unicos[\"ID_Cliente\"].value_counts()"
   ]
  },
  {
   "cell_type": "code",
   "execution_count": 11,
   "metadata": {},
   "outputs": [
    {
     "data": {
      "text/plain": [
       "ID_Cliente               0\n",
       "Genero                   0\n",
       "Tem_Carro                0\n",
       "Tem_Casa_Propria         0\n",
       "Qtd_Filhos               0\n",
       "Rendimento_Anual         0\n",
       "Categoria_de_renda       0\n",
       "Grau_Escolaridade        0\n",
       "Estado_Civil             0\n",
       "Moradia                  0\n",
       "Idade                    0\n",
       "Tem_Celular              0\n",
       "Tem_telefone_trabalho    0\n",
       "Tem_telefone_fixo        0\n",
       "Tem_email                0\n",
       "Ocupacao                 0\n",
       "Tamanho_Familia          0\n",
       "Anos_empregado           0\n",
       "dtype: int64"
      ]
     },
     "execution_count": 11,
     "metadata": {},
     "output_type": "execute_result"
    }
   ],
   "source": [
    "#verificar se há valores nulos\n",
    "df_clientes_cadastrados_unicos.isnull().sum()"
   ]
  },
  {
   "cell_type": "code",
   "execution_count": 12,
   "metadata": {},
   "outputs": [
    {
     "name": "stdout",
     "output_type": "stream",
     "text": [
      "<class 'pandas.core.frame.DataFrame'>\n",
      "Int64Index: 438463 entries, 0 to 438556\n",
      "Data columns (total 18 columns):\n",
      " #   Column                 Non-Null Count   Dtype  \n",
      "---  ------                 --------------   -----  \n",
      " 0   ID_Cliente             438463 non-null  int64  \n",
      " 1   Genero                 438463 non-null  object \n",
      " 2   Tem_Carro              438463 non-null  int64  \n",
      " 3   Tem_Casa_Propria       438463 non-null  int64  \n",
      " 4   Qtd_Filhos             438463 non-null  int64  \n",
      " 5   Rendimento_Anual       438463 non-null  float64\n",
      " 6   Categoria_de_renda     438463 non-null  object \n",
      " 7   Grau_Escolaridade      438463 non-null  object \n",
      " 8   Estado_Civil           438463 non-null  object \n",
      " 9   Moradia                438463 non-null  object \n",
      " 10  Idade                  438463 non-null  float64\n",
      " 11  Tem_Celular            438463 non-null  int64  \n",
      " 12  Tem_telefone_trabalho  438463 non-null  int64  \n",
      " 13  Tem_telefone_fixo      438463 non-null  int64  \n",
      " 14  Tem_email              438463 non-null  int64  \n",
      " 15  Ocupacao               438463 non-null  object \n",
      " 16  Tamanho_Familia        438463 non-null  float64\n",
      " 17  Anos_empregado         438463 non-null  float64\n",
      "dtypes: float64(4), int64(8), object(6)\n",
      "memory usage: 63.6+ MB\n"
     ]
    }
   ],
   "source": [
    "#não há valores nulos\n",
    "\n",
    "#analisar o dataframe\n",
    "df_clientes_cadastrados_unicos.info()"
   ]
  },
  {
   "cell_type": "markdown",
   "metadata": {},
   "source": [
    "# Aula 02"
   ]
  },
  {
   "cell_type": "markdown",
   "metadata": {},
   "source": [
    "## Desafio 02: Explorar as colunas (features), identificar se são contínuas, categóricas ou binárias"
   ]
  },
  {
   "cell_type": "code",
   "execution_count": 13,
   "metadata": {},
   "outputs": [],
   "source": [
    "colunas_quantitativas = [\"Idade\", \"Qtd_Filhos\", \"Rendimento_Anual\", \"Tamanho_Familia\", \"Anos_empregado\"]"
   ]
  },
  {
   "cell_type": "code",
   "execution_count": 14,
   "metadata": {},
   "outputs": [
    {
     "data": {
      "text/html": [
       "<div>\n",
       "<style scoped>\n",
       "    .dataframe tbody tr th:only-of-type {\n",
       "        vertical-align: middle;\n",
       "    }\n",
       "\n",
       "    .dataframe tbody tr th {\n",
       "        vertical-align: top;\n",
       "    }\n",
       "\n",
       "    .dataframe thead th {\n",
       "        text-align: right;\n",
       "    }\n",
       "</style>\n",
       "<table border=\"1\" class=\"dataframe\">\n",
       "  <thead>\n",
       "    <tr style=\"text-align: right;\">\n",
       "      <th></th>\n",
       "      <th>Idade</th>\n",
       "      <th>Qtd_Filhos</th>\n",
       "      <th>Rendimento_Anual</th>\n",
       "      <th>Tamanho_Familia</th>\n",
       "      <th>Anos_empregado</th>\n",
       "    </tr>\n",
       "  </thead>\n",
       "  <tbody>\n",
       "    <tr>\n",
       "      <th>count</th>\n",
       "      <td>438463.000000</td>\n",
       "      <td>438463.000000</td>\n",
       "      <td>4.384630e+05</td>\n",
       "      <td>438463.000000</td>\n",
       "      <td>438463.000000</td>\n",
       "    </tr>\n",
       "    <tr>\n",
       "      <th>mean</th>\n",
       "      <td>43.834032</td>\n",
       "      <td>0.427384</td>\n",
       "      <td>1.875220e+05</td>\n",
       "      <td>2.194461</td>\n",
       "      <td>-165.936036</td>\n",
       "    </tr>\n",
       "    <tr>\n",
       "      <th>std</th>\n",
       "      <td>11.472815</td>\n",
       "      <td>0.724879</td>\n",
       "      <td>1.100832e+05</td>\n",
       "      <td>0.897194</td>\n",
       "      <td>380.201131</td>\n",
       "    </tr>\n",
       "    <tr>\n",
       "      <th>min</th>\n",
       "      <td>21.000000</td>\n",
       "      <td>0.000000</td>\n",
       "      <td>2.610000e+04</td>\n",
       "      <td>1.000000</td>\n",
       "      <td>-1000.700000</td>\n",
       "    </tr>\n",
       "    <tr>\n",
       "      <th>25%</th>\n",
       "      <td>34.000000</td>\n",
       "      <td>0.000000</td>\n",
       "      <td>1.215000e+05</td>\n",
       "      <td>2.000000</td>\n",
       "      <td>1.000000</td>\n",
       "    </tr>\n",
       "    <tr>\n",
       "      <th>50%</th>\n",
       "      <td>43.000000</td>\n",
       "      <td>0.000000</td>\n",
       "      <td>1.611000e+05</td>\n",
       "      <td>2.000000</td>\n",
       "      <td>4.000000</td>\n",
       "    </tr>\n",
       "    <tr>\n",
       "      <th>75%</th>\n",
       "      <td>53.000000</td>\n",
       "      <td>1.000000</td>\n",
       "      <td>2.250000e+05</td>\n",
       "      <td>3.000000</td>\n",
       "      <td>8.500000</td>\n",
       "    </tr>\n",
       "    <tr>\n",
       "      <th>max</th>\n",
       "      <td>69.000000</td>\n",
       "      <td>19.000000</td>\n",
       "      <td>6.750000e+06</td>\n",
       "      <td>20.000000</td>\n",
       "      <td>48.000000</td>\n",
       "    </tr>\n",
       "  </tbody>\n",
       "</table>\n",
       "</div>"
      ],
      "text/plain": [
       "               Idade     Qtd_Filhos  Rendimento_Anual  Tamanho_Familia  \\\n",
       "count  438463.000000  438463.000000      4.384630e+05    438463.000000   \n",
       "mean       43.834032       0.427384      1.875220e+05         2.194461   \n",
       "std        11.472815       0.724879      1.100832e+05         0.897194   \n",
       "min        21.000000       0.000000      2.610000e+04         1.000000   \n",
       "25%        34.000000       0.000000      1.215000e+05         2.000000   \n",
       "50%        43.000000       0.000000      1.611000e+05         2.000000   \n",
       "75%        53.000000       1.000000      2.250000e+05         3.000000   \n",
       "max        69.000000      19.000000      6.750000e+06        20.000000   \n",
       "\n",
       "       Anos_empregado  \n",
       "count   438463.000000  \n",
       "mean      -165.936036  \n",
       "std        380.201131  \n",
       "min      -1000.700000  \n",
       "25%          1.000000  \n",
       "50%          4.000000  \n",
       "75%          8.500000  \n",
       "max         48.000000  "
      ]
     },
     "execution_count": 14,
     "metadata": {},
     "output_type": "execute_result"
    }
   ],
   "source": [
    "df_clientes_cadastrados_unicos[colunas_quantitativas].describe()"
   ]
  },
  {
   "cell_type": "code",
   "execution_count": 15,
   "metadata": {},
   "outputs": [
    {
     "data": {
      "text/plain": [
       "Anos_empregado  Categoria_de_renda \n",
       "-1000.7         Pensionista            75314\n",
       " 0.0            Empregado                 26\n",
       "                Servidor publico          11\n",
       "                Associado comercial        7\n",
       "dtype: int64"
      ]
     },
     "execution_count": 15,
     "metadata": {},
     "output_type": "execute_result"
    }
   ],
   "source": [
    "df_clientes_cadastrados_unicos.query(\"Anos_empregado <= 0\")[[\"Anos_empregado\", \"Categoria_de_renda\"]].value_counts()"
   ]
  },
  {
   "cell_type": "code",
   "execution_count": 16,
   "metadata": {},
   "outputs": [],
   "source": [
    "#provavelmente os clientes Pensionistas foram cadastrados como Anos_empregado = -1000.7, o que está distorcendo nossa coluna Anos_empregado\n",
    "#vamos substituir esses valores por um valor mais interessante que ainda deixe claro que são Pensionistas\n",
    "df_clientes_cadastrados_unicos[\"Anos_empregado\"] = df_clientes_cadastrados_unicos[\"Anos_empregado\"].replace(-1000.7, -1)"
   ]
  },
  {
   "cell_type": "markdown",
   "metadata": {},
   "source": [
    "# Tratando Outliers"
   ]
  },
  {
   "cell_type": "code",
   "execution_count": 17,
   "metadata": {},
   "outputs": [],
   "source": [
    "import seaborn as sns\n",
    "import matplotlib.pyplot as plt\n",
    "sns.set()"
   ]
  },
  {
   "cell_type": "code",
   "execution_count": 18,
   "metadata": {},
   "outputs": [
    {
     "data": {
      "image/png": "[encoded data removed]",
      "text/plain": [
       "<Figure size 432x288 with 1 Axes>"
      ]
     },
     "metadata": {},
     "output_type": "display_data"
    }
   ],
   "source": [
    "#verificar a distribuição dos Rendimentos Anuais no dataframe\n",
    "sns.histplot(data=df_clientes_cadastrados_unicos, x=\"Rendimento_Anual\", bins=10)\n",
    "plt.xticks(rotation=45)\n",
    "plt.show()"
   ]
  },
  {
   "cell_type": "code",
   "execution_count": 19,
   "metadata": {},
   "outputs": [
    {
     "data": {
      "text/plain": [
       "12641"
      ]
     },
     "execution_count": 19,
     "metadata": {},
     "output_type": "execute_result"
    }
   ],
   "source": [
    "#essa visualização não é interessante porque os outliers estão impactando na visualização dos dados\n",
    "\n",
    "#Vamos fazer o tratamento dos outliers\n",
    "\n",
    "#vamos isolar a coluna de Rendimentos_Anuais\n",
    "coluna = df_clientes_cadastrados_unicos[\"Rendimento_Anual\"]\n",
    "\n",
    "#calcular a média dos Rendimentos anuais\n",
    "coluna_media = coluna.mean()\n",
    "coluna_std = coluna.std()\n",
    "\n",
    "#calcular o limite superior (média mais duas vezes o desvio padrão)\n",
    "limite_sup = coluna_media + (coluna_std * 2)\n",
    "\n",
    "#calcular o limite inferior (média menos duas vezes o desvio padrão)\n",
    "limite_inf = coluna_media - (coluna_std * 2)\n",
    "\n",
    "#verificar quais clientes ultrapassam os limites superior e inferior\n",
    "index_outliers = []\n",
    "for index, valor in coluna.items():\n",
    "    if valor > limite_sup or valor < limite_inf:\n",
    "        index_outliers.append(index)\n",
    "#quantidade de clientes outliers\n",
    "len (index_outliers)\n",
    "\n",
    "\n",
    "#calculamos os outliers através de um intervalo de confiança, neste caso utilizamos acima ou abaixo de 2 vezes o desvio padrão"
   ]
  },
  {
   "cell_type": "markdown",
   "metadata": {},
   "source": [
    "## Desafio 03: Explorar outras técnicas de identificar e tratar outliers"
   ]
  },
  {
   "cell_type": "code",
   "execution_count": 20,
   "metadata": {},
   "outputs": [],
   "source": [
    "#criar um dataframe sem os outliers\n",
    "df_clientes_cadastrados_sem_outliers = df_clientes_cadastrados_unicos.drop(index_outliers)"
   ]
  },
  {
   "cell_type": "code",
   "execution_count": 21,
   "metadata": {},
   "outputs": [
    {
     "data": {
      "text/plain": [
       "(425822, 18)"
      ]
     },
     "execution_count": 21,
     "metadata": {},
     "output_type": "execute_result"
    }
   ],
   "source": [
    "df_clientes_cadastrados_sem_outliers.shape"
   ]
  },
  {
   "cell_type": "code",
   "execution_count": 22,
   "metadata": {},
   "outputs": [
    {
     "data": {
      "text/html": [
       "<div>\n",
       "<style scoped>\n",
       "    .dataframe tbody tr th:only-of-type {\n",
       "        vertical-align: middle;\n",
       "    }\n",
       "\n",
       "    .dataframe tbody tr th {\n",
       "        vertical-align: top;\n",
       "    }\n",
       "\n",
       "    .dataframe thead th {\n",
       "        text-align: right;\n",
       "    }\n",
       "</style>\n",
       "<table border=\"1\" class=\"dataframe\">\n",
       "  <thead>\n",
       "    <tr style=\"text-align: right;\">\n",
       "      <th></th>\n",
       "      <th>Idade</th>\n",
       "      <th>Qtd_Filhos</th>\n",
       "      <th>Rendimento_Anual</th>\n",
       "      <th>Tamanho_Familia</th>\n",
       "      <th>Anos_empregado</th>\n",
       "    </tr>\n",
       "  </thead>\n",
       "  <tbody>\n",
       "    <tr>\n",
       "      <th>count</th>\n",
       "      <td>425822.000000</td>\n",
       "      <td>425822.000000</td>\n",
       "      <td>425822.000000</td>\n",
       "      <td>425822.000000</td>\n",
       "      <td>425822.000000</td>\n",
       "    </tr>\n",
       "    <tr>\n",
       "      <th>mean</th>\n",
       "      <td>43.838707</td>\n",
       "      <td>0.425314</td>\n",
       "      <td>176384.728083</td>\n",
       "      <td>2.191683</td>\n",
       "      <td>5.744956</td>\n",
       "    </tr>\n",
       "    <tr>\n",
       "      <th>std</th>\n",
       "      <td>11.525400</td>\n",
       "      <td>0.723577</td>\n",
       "      <td>75033.530551</td>\n",
       "      <td>0.896300</td>\n",
       "      <td>6.736649</td>\n",
       "    </tr>\n",
       "    <tr>\n",
       "      <th>min</th>\n",
       "      <td>21.000000</td>\n",
       "      <td>0.000000</td>\n",
       "      <td>26100.000000</td>\n",
       "      <td>1.000000</td>\n",
       "      <td>-1.000000</td>\n",
       "    </tr>\n",
       "    <tr>\n",
       "      <th>25%</th>\n",
       "      <td>34.000000</td>\n",
       "      <td>0.000000</td>\n",
       "      <td>117000.000000</td>\n",
       "      <td>2.000000</td>\n",
       "      <td>1.000000</td>\n",
       "    </tr>\n",
       "    <tr>\n",
       "      <th>50%</th>\n",
       "      <td>43.000000</td>\n",
       "      <td>0.000000</td>\n",
       "      <td>157500.000000</td>\n",
       "      <td>2.000000</td>\n",
       "      <td>4.000000</td>\n",
       "    </tr>\n",
       "    <tr>\n",
       "      <th>75%</th>\n",
       "      <td>53.000000</td>\n",
       "      <td>1.000000</td>\n",
       "      <td>225000.000000</td>\n",
       "      <td>3.000000</td>\n",
       "      <td>8.500000</td>\n",
       "    </tr>\n",
       "    <tr>\n",
       "      <th>max</th>\n",
       "      <td>69.000000</td>\n",
       "      <td>19.000000</td>\n",
       "      <td>405000.000000</td>\n",
       "      <td>20.000000</td>\n",
       "      <td>48.000000</td>\n",
       "    </tr>\n",
       "  </tbody>\n",
       "</table>\n",
       "</div>"
      ],
      "text/plain": [
       "               Idade     Qtd_Filhos  Rendimento_Anual  Tamanho_Familia  \\\n",
       "count  425822.000000  425822.000000     425822.000000    425822.000000   \n",
       "mean       43.838707       0.425314     176384.728083         2.191683   \n",
       "std        11.525400       0.723577      75033.530551         0.896300   \n",
       "min        21.000000       0.000000      26100.000000         1.000000   \n",
       "25%        34.000000       0.000000     117000.000000         2.000000   \n",
       "50%        43.000000       0.000000     157500.000000         2.000000   \n",
       "75%        53.000000       1.000000     225000.000000         3.000000   \n",
       "max        69.000000      19.000000     405000.000000        20.000000   \n",
       "\n",
       "       Anos_empregado  \n",
       "count   425822.000000  \n",
       "mean         5.744956  \n",
       "std          6.736649  \n",
       "min         -1.000000  \n",
       "25%          1.000000  \n",
       "50%          4.000000  \n",
       "75%          8.500000  \n",
       "max         48.000000  "
      ]
     },
     "execution_count": 22,
     "metadata": {},
     "output_type": "execute_result"
    }
   ],
   "source": [
    "df_clientes_cadastrados_sem_outliers[colunas_quantitativas].describe()"
   ]
  },
  {
   "cell_type": "code",
   "execution_count": 24,
   "metadata": {},
   "outputs": [
    {
     "data": {
      "image/png": "[encoded data removed]",
      "text/plain": [
       "<Figure size 432x288 with 1 Axes>"
      ]
     },
     "metadata": {},
     "output_type": "display_data"
    }
   ],
   "source": [
    "#verificar a distribuição dos Rendimentos Anuais no novo dataframe, sem outliers\n",
    "sns.histplot(data=df_clientes_cadastrados_sem_outliers, x=\"Rendimento_Anual\", bins=10)\n",
    "plt.xticks(rotation=45)\n",
    "plt.show()"
   ]
  }
 ],
 "metadata": {
  "interpreter": {
   "hash": "63fd5069d213b44bf678585dea6b12cceca9941eaf7f819626cde1f2670de90d"
  },
  "kernelspec": {
   "display_name": "Python 3.9.2 64-bit",
   "name": "python3"
  },
  "language_info": {
   "codemirror_mode": {
    "name": "ipython",
    "version": 3
   },
   "file_extension": ".py",
   "mimetype": "text/x-python",
   "name": "python",
   "nbconvert_exporter": "python",
   "pygments_lexer": "ipython3",
   "version": "3.9.2"
  },
  "orig_nbformat": 4
 },
 "nbformat": 4,
 "nbformat_minor": 2
}
