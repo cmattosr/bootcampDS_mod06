{
 "cells": [
  {
   "cell_type": "code",
   "execution_count": 1,
   "metadata": {},
   "outputs": [],
   "source": [
    "import pandas as pd"
   ]
  },
  {
   "cell_type": "code",
   "execution_count": 2,
   "metadata": {},
   "outputs": [],
   "source": [
    "df_clientes_cadastrados = pd.read_csv(\"https://github.com/cmattosr/bootcampDS_mod06/raw/main/dados/clientes_cadastrados.csv\")"
   ]
  },
  {
   "cell_type": "code",
   "execution_count": 3,
   "metadata": {},
   "outputs": [
    {
     "data": {
      "text/plain": [
       "(438557, 18)"
      ]
     },
     "execution_count": 3,
     "metadata": {},
     "output_type": "execute_result"
    }
   ],
   "source": [
    "df_clientes_cadastrados.shape"
   ]
  },
  {
   "cell_type": "code",
   "execution_count": 4,
   "metadata": {},
   "outputs": [
    {
     "data": {
      "text/plain": [
       "7045794    2\n",
       "7636389    2\n",
       "7046068    2\n",
       "7052812    2\n",
       "7742298    2\n",
       "          ..\n",
       "5709384    1\n",
       "5727815    1\n",
       "5729862    1\n",
       "6780485    1\n",
       "6293503    1\n",
       "Name: ID_Cliente, Length: 438510, dtype: int64"
      ]
     },
     "execution_count": 4,
     "metadata": {},
     "output_type": "execute_result"
    }
   ],
   "source": [
    "#Verificar se há clientes repetidos\n",
    "df_clientes_cadastrados[\"ID_Cliente\"].value_counts()"
   ]
  },
  {
   "cell_type": "code",
   "execution_count": 5,
   "metadata": {},
   "outputs": [
    {
     "data": {
      "text/plain": [
       "0"
      ]
     },
     "execution_count": 5,
     "metadata": {},
     "output_type": "execute_result"
    }
   ],
   "source": [
    "#Há clientes repetidos neste dataframe (ID_Cliente)\n",
    "\n",
    "#Verificar se ha linhas duplicadas (utilizamos o sum, se houver duplicatas será somado o valor 1 para cada ocorrência)\n",
    "df_clientes_cadastrados.duplicated().sum()"
   ]
  },
  {
   "cell_type": "code",
   "execution_count": 6,
   "metadata": {},
   "outputs": [
    {
     "data": {
      "text/plain": [
       "(94, 18)"
      ]
     },
     "execution_count": 6,
     "metadata": {},
     "output_type": "execute_result"
    }
   ],
   "source": [
    "#não há linhas duplicadas\n",
    "\n",
    "#verificar quanto são os clientes repetidos, o keep=False contabiliza todas as ocorrências com IDs iguais, o valor default True contabiliza apenas a duplicata\n",
    "df_clientes_cadastrados[df_clientes_cadastrados[\"ID_Cliente\"].duplicated(keep=False)].shape"
   ]
  },
  {
   "cell_type": "code",
   "execution_count": 7,
   "metadata": {},
   "outputs": [
    {
     "data": {
      "text/plain": [
       "421211    7702516\n",
       "421268    7602432\n",
       "421349    7602432\n",
       "421464    7836971\n",
       "421698    7213374\n",
       "           ...   \n",
       "433158    7282535\n",
       "433159    7742853\n",
       "433217    7135270\n",
       "433666    7091721\n",
       "433789    7618285\n",
       "Name: ID_Cliente, Length: 94, dtype: int64"
      ]
     },
     "execution_count": 7,
     "metadata": {},
     "output_type": "execute_result"
    }
   ],
   "source": [
    "#Há 94 clientes repetidos (na verdade 47 aparecem duas vezes)\n",
    "#Essas linhas serão removidas pois são irrelevantes considerando o total do dataframe (94 repetidos em 438557 linhas), mas serão armazenadas separadamente\n",
    "id_repetidos = df_clientes_cadastrados[df_clientes_cadastrados[\"ID_Cliente\"].duplicated(keep=False)][\"ID_Cliente\"]\n",
    "id_repetidos"
   ]
  },
  {
   "cell_type": "markdown",
   "metadata": {},
   "source": [
    "## Desafio 01: Explorar o motivo pelo qual há clientes repetidos no dataframe"
   ]
  },
  {
   "cell_type": "code",
   "execution_count": 8,
   "metadata": {},
   "outputs": [
    {
     "data": {
      "text/plain": [
       "(438463, 18)"
      ]
     },
     "execution_count": 8,
     "metadata": {},
     "output_type": "execute_result"
    }
   ],
   "source": [
    "#remover as linhas com clientes repetidos, que já estão armazenados em id_repetidos\n",
    "df_clientes_cadastrados_unicos = df_clientes_cadastrados.drop(id_repetidos.index)\n",
    "df_clientes_cadastrados_unicos.shape"
   ]
  },
  {
   "cell_type": "code",
   "execution_count": 9,
   "metadata": {},
   "outputs": [
    {
     "data": {
      "text/plain": [
       "6291456    1\n",
       "6480139    1\n",
       "6486280    1\n",
       "5409030    1\n",
       "6463747    1\n",
       "          ..\n",
       "6569516    1\n",
       "6690720    1\n",
       "6583845    1\n",
       "6575649    1\n",
       "6293503    1\n",
       "Name: ID_Cliente, Length: 438463, dtype: int64"
      ]
     },
     "execution_count": 9,
     "metadata": {},
     "output_type": "execute_result"
    }
   ],
   "source": [
    "#checar se ainda há clientes repetidos\n",
    "df_clientes_cadastrados_unicos[\"ID_Cliente\"].value_counts()"
   ]
  },
  {
   "cell_type": "code",
   "execution_count": 10,
   "metadata": {},
   "outputs": [
    {
     "data": {
      "text/plain": [
       "ID_Cliente               0\n",
       "Genero                   0\n",
       "Tem_Carro                0\n",
       "Tem_Casa_Propria         0\n",
       "Qtd_Filhos               0\n",
       "Rendimento_Anual         0\n",
       "Categoria_de_renda       0\n",
       "Grau_Escolaridade        0\n",
       "Estado_Civil             0\n",
       "Moradia                  0\n",
       "Idade                    0\n",
       "Tem_Celular              0\n",
       "Tem_telefone_trabalho    0\n",
       "Tem_telefone_fixo        0\n",
       "Tem_email                0\n",
       "Ocupacao                 0\n",
       "Tamanho_Familia          0\n",
       "Anos_empregado           0\n",
       "dtype: int64"
      ]
     },
     "execution_count": 10,
     "metadata": {},
     "output_type": "execute_result"
    }
   ],
   "source": [
    "#verificar se há valores nulos\n",
    "df_clientes_cadastrados_unicos.isnull().sum()"
   ]
  },
  {
   "cell_type": "code",
   "execution_count": 11,
   "metadata": {},
   "outputs": [
    {
     "name": "stdout",
     "output_type": "stream",
     "text": [
      "<class 'pandas.core.frame.DataFrame'>\n",
      "Int64Index: 438463 entries, 0 to 438556\n",
      "Data columns (total 18 columns):\n",
      " #   Column                 Non-Null Count   Dtype  \n",
      "---  ------                 --------------   -----  \n",
      " 0   ID_Cliente             438463 non-null  int64  \n",
      " 1   Genero                 438463 non-null  object \n",
      " 2   Tem_Carro              438463 non-null  int64  \n",
      " 3   Tem_Casa_Propria       438463 non-null  int64  \n",
      " 4   Qtd_Filhos             438463 non-null  int64  \n",
      " 5   Rendimento_Anual       438463 non-null  float64\n",
      " 6   Categoria_de_renda     438463 non-null  object \n",
      " 7   Grau_Escolaridade      438463 non-null  object \n",
      " 8   Estado_Civil           438463 non-null  object \n",
      " 9   Moradia                438463 non-null  object \n",
      " 10  Idade                  438463 non-null  float64\n",
      " 11  Tem_Celular            438463 non-null  int64  \n",
      " 12  Tem_telefone_trabalho  438463 non-null  int64  \n",
      " 13  Tem_telefone_fixo      438463 non-null  int64  \n",
      " 14  Tem_email              438463 non-null  int64  \n",
      " 15  Ocupacao               438463 non-null  object \n",
      " 16  Tamanho_Familia        438463 non-null  float64\n",
      " 17  Anos_empregado         438463 non-null  float64\n",
      "dtypes: float64(4), int64(8), object(6)\n",
      "memory usage: 63.6+ MB\n"
     ]
    }
   ],
   "source": [
    "#não há valores nulos\n",
    "\n",
    "#analisar o dataframe\n",
    "df_clientes_cadastrados_unicos.info()"
   ]
  },
  {
   "cell_type": "markdown",
   "metadata": {},
   "source": [
    "# Aula 02"
   ]
  },
  {
   "cell_type": "markdown",
   "metadata": {},
   "source": [
    "## Desafio 02: Explorar as colunas (features), identificar se são contínuas, categóricas ou binárias"
   ]
  },
  {
   "cell_type": "code",
   "execution_count": 12,
   "metadata": {},
   "outputs": [],
   "source": [
    "colunas_quantitativas = [\"Idade\", \"Qtd_Filhos\", \"Rendimento_Anual\", \"Tamanho_Familia\", \"Anos_empregado\"]"
   ]
  },
  {
   "cell_type": "code",
   "execution_count": 13,
   "metadata": {},
   "outputs": [
    {
     "data": {
      "text/html": [
       "<div>\n",
       "<style scoped>\n",
       "    .dataframe tbody tr th:only-of-type {\n",
       "        vertical-align: middle;\n",
       "    }\n",
       "\n",
       "    .dataframe tbody tr th {\n",
       "        vertical-align: top;\n",
       "    }\n",
       "\n",
       "    .dataframe thead th {\n",
       "        text-align: right;\n",
       "    }\n",
       "</style>\n",
       "<table border=\"1\" class=\"dataframe\">\n",
       "  <thead>\n",
       "    <tr style=\"text-align: right;\">\n",
       "      <th></th>\n",
       "      <th>Idade</th>\n",
       "      <th>Qtd_Filhos</th>\n",
       "      <th>Rendimento_Anual</th>\n",
       "      <th>Tamanho_Familia</th>\n",
       "      <th>Anos_empregado</th>\n",
       "    </tr>\n",
       "  </thead>\n",
       "  <tbody>\n",
       "    <tr>\n",
       "      <th>count</th>\n",
       "      <td>438463.000000</td>\n",
       "      <td>438463.000000</td>\n",
       "      <td>4.384630e+05</td>\n",
       "      <td>438463.000000</td>\n",
       "      <td>438463.000000</td>\n",
       "    </tr>\n",
       "    <tr>\n",
       "      <th>mean</th>\n",
       "      <td>43.834032</td>\n",
       "      <td>0.427384</td>\n",
       "      <td>1.875220e+05</td>\n",
       "      <td>2.194461</td>\n",
       "      <td>-165.936036</td>\n",
       "    </tr>\n",
       "    <tr>\n",
       "      <th>std</th>\n",
       "      <td>11.472815</td>\n",
       "      <td>0.724879</td>\n",
       "      <td>1.100832e+05</td>\n",
       "      <td>0.897194</td>\n",
       "      <td>380.201131</td>\n",
       "    </tr>\n",
       "    <tr>\n",
       "      <th>min</th>\n",
       "      <td>21.000000</td>\n",
       "      <td>0.000000</td>\n",
       "      <td>2.610000e+04</td>\n",
       "      <td>1.000000</td>\n",
       "      <td>-1000.700000</td>\n",
       "    </tr>\n",
       "    <tr>\n",
       "      <th>25%</th>\n",
       "      <td>34.000000</td>\n",
       "      <td>0.000000</td>\n",
       "      <td>1.215000e+05</td>\n",
       "      <td>2.000000</td>\n",
       "      <td>1.000000</td>\n",
       "    </tr>\n",
       "    <tr>\n",
       "      <th>50%</th>\n",
       "      <td>43.000000</td>\n",
       "      <td>0.000000</td>\n",
       "      <td>1.611000e+05</td>\n",
       "      <td>2.000000</td>\n",
       "      <td>4.000000</td>\n",
       "    </tr>\n",
       "    <tr>\n",
       "      <th>75%</th>\n",
       "      <td>53.000000</td>\n",
       "      <td>1.000000</td>\n",
       "      <td>2.250000e+05</td>\n",
       "      <td>3.000000</td>\n",
       "      <td>8.500000</td>\n",
       "    </tr>\n",
       "    <tr>\n",
       "      <th>max</th>\n",
       "      <td>69.000000</td>\n",
       "      <td>19.000000</td>\n",
       "      <td>6.750000e+06</td>\n",
       "      <td>20.000000</td>\n",
       "      <td>48.000000</td>\n",
       "    </tr>\n",
       "  </tbody>\n",
       "</table>\n",
       "</div>"
      ],
      "text/plain": [
       "               Idade     Qtd_Filhos  Rendimento_Anual  Tamanho_Familia  \\\n",
       "count  438463.000000  438463.000000      4.384630e+05    438463.000000   \n",
       "mean       43.834032       0.427384      1.875220e+05         2.194461   \n",
       "std        11.472815       0.724879      1.100832e+05         0.897194   \n",
       "min        21.000000       0.000000      2.610000e+04         1.000000   \n",
       "25%        34.000000       0.000000      1.215000e+05         2.000000   \n",
       "50%        43.000000       0.000000      1.611000e+05         2.000000   \n",
       "75%        53.000000       1.000000      2.250000e+05         3.000000   \n",
       "max        69.000000      19.000000      6.750000e+06        20.000000   \n",
       "\n",
       "       Anos_empregado  \n",
       "count   438463.000000  \n",
       "mean      -165.936036  \n",
       "std        380.201131  \n",
       "min      -1000.700000  \n",
       "25%          1.000000  \n",
       "50%          4.000000  \n",
       "75%          8.500000  \n",
       "max         48.000000  "
      ]
     },
     "execution_count": 13,
     "metadata": {},
     "output_type": "execute_result"
    }
   ],
   "source": [
    "df_clientes_cadastrados_unicos[colunas_quantitativas].describe()"
   ]
  },
  {
   "cell_type": "code",
   "execution_count": 14,
   "metadata": {},
   "outputs": [
    {
     "data": {
      "text/plain": [
       "Anos_empregado  Categoria_de_renda \n",
       "-1000.7         Pensionista            75314\n",
       " 0.0            Empregado                 26\n",
       "                Servidor publico          11\n",
       "                Associado comercial        7\n",
       "dtype: int64"
      ]
     },
     "execution_count": 14,
     "metadata": {},
     "output_type": "execute_result"
    }
   ],
   "source": [
    "df_clientes_cadastrados_unicos.query(\"Anos_empregado <= 0\")[[\"Anos_empregado\", \"Categoria_de_renda\"]].value_counts()"
   ]
  },
  {
   "cell_type": "code",
   "execution_count": 15,
   "metadata": {},
   "outputs": [],
   "source": [
    "#provavelmente os clientes Pensionistas foram cadastrados como Anos_empregado = -1000.7, o que está distorcendo nossa coluna Anos_empregado\n",
    "#vamos substituir esses valores por um valor mais interessante que ainda deixe claro que são Pensionistas\n",
    "df_clientes_cadastrados_unicos[\"Anos_empregado\"] = df_clientes_cadastrados_unicos[\"Anos_empregado\"].replace(-1000.7, -1)"
   ]
  },
  {
   "cell_type": "markdown",
   "metadata": {},
   "source": [
    "# Tratando Outliers"
   ]
  },
  {
   "cell_type": "code",
   "execution_count": 16,
   "metadata": {},
   "outputs": [],
   "source": [
    "import seaborn as sns\n",
    "import matplotlib.pyplot as plt\n",
    "sns.set()"
   ]
  },
  {
   "cell_type": "code",
   "execution_count": 17,
   "metadata": {},
   "outputs": [
    {
     "data": {
      "image/png": "[encoded data removed]",
      "text/plain": [
       "<Figure size 432x288 with 1 Axes>"
      ]
     },
     "metadata": {},
     "output_type": "display_data"
    }
   ],
   "source": [
    "#verificar a distribuição dos Rendimentos Anuais no dataframe\n",
    "sns.histplot(data=df_clientes_cadastrados_unicos, x=\"Rendimento_Anual\", bins=10)\n",
    "plt.xticks(rotation=45)\n",
    "plt.show()"
   ]
  },
  {
   "cell_type": "code",
   "execution_count": 18,
   "metadata": {},
   "outputs": [
    {
     "data": {
      "text/plain": [
       "12641"
      ]
     },
     "execution_count": 18,
     "metadata": {},
     "output_type": "execute_result"
    }
   ],
   "source": [
    "#essa visualização não é interessante porque os outliers estão impactando na visualização dos dados\n",
    "\n",
    "#Vamos fazer o tratamento dos outliers\n",
    "\n",
    "#vamos isolar a coluna de Rendimentos_Anuais\n",
    "coluna = df_clientes_cadastrados_unicos[\"Rendimento_Anual\"]\n",
    "\n",
    "#calcular a média dos Rendimentos anuais\n",
    "coluna_media = coluna.mean()\n",
    "coluna_std = coluna.std()\n",
    "\n",
    "#calcular o limite superior (média mais duas vezes o desvio padrão)\n",
    "limite_sup = coluna_media + (coluna_std * 2)\n",
    "\n",
    "#calcular o limite inferior (média menos duas vezes o desvio padrão)\n",
    "limite_inf = coluna_media - (coluna_std * 2)\n",
    "\n",
    "#verificar quais clientes ultrapassam os limites superior e inferior\n",
    "index_outliers = []\n",
    "for index, valor in coluna.items():\n",
    "    if valor > limite_sup or valor < limite_inf:\n",
    "        index_outliers.append(index)\n",
    "#quantidade de clientes outliers\n",
    "len (index_outliers)\n",
    "\n",
    "\n",
    "#calculamos os outliers através de um intervalo de confiança, neste caso utilizamos acima ou abaixo de 2 vezes o desvio padrão"
   ]
  },
  {
   "cell_type": "markdown",
   "metadata": {},
   "source": [
    "## Desafio 03: Explorar outras técnicas de identificar e tratar outliers"
   ]
  },
  {
   "cell_type": "code",
   "execution_count": 19,
   "metadata": {},
   "outputs": [],
   "source": [
    "#criar um dataframe sem os outliers\n",
    "df_clientes_cadastrados_sem_outliers = df_clientes_cadastrados_unicos.drop(index_outliers)"
   ]
  },
  {
   "cell_type": "code",
   "execution_count": 20,
   "metadata": {},
   "outputs": [
    {
     "data": {
      "text/plain": [
       "(425822, 18)"
      ]
     },
     "execution_count": 20,
     "metadata": {},
     "output_type": "execute_result"
    }
   ],
   "source": [
    "df_clientes_cadastrados_sem_outliers.shape"
   ]
  },
  {
   "cell_type": "code",
   "execution_count": 21,
   "metadata": {},
   "outputs": [
    {
     "data": {
      "text/html": [
       "<div>\n",
       "<style scoped>\n",
       "    .dataframe tbody tr th:only-of-type {\n",
       "        vertical-align: middle;\n",
       "    }\n",
       "\n",
       "    .dataframe tbody tr th {\n",
       "        vertical-align: top;\n",
       "    }\n",
       "\n",
       "    .dataframe thead th {\n",
       "        text-align: right;\n",
       "    }\n",
       "</style>\n",
       "<table border=\"1\" class=\"dataframe\">\n",
       "  <thead>\n",
       "    <tr style=\"text-align: right;\">\n",
       "      <th></th>\n",
       "      <th>Idade</th>\n",
       "      <th>Qtd_Filhos</th>\n",
       "      <th>Rendimento_Anual</th>\n",
       "      <th>Tamanho_Familia</th>\n",
       "      <th>Anos_empregado</th>\n",
       "    </tr>\n",
       "  </thead>\n",
       "  <tbody>\n",
       "    <tr>\n",
       "      <th>count</th>\n",
       "      <td>425822.000000</td>\n",
       "      <td>425822.000000</td>\n",
       "      <td>425822.000000</td>\n",
       "      <td>425822.000000</td>\n",
       "      <td>425822.000000</td>\n",
       "    </tr>\n",
       "    <tr>\n",
       "      <th>mean</th>\n",
       "      <td>43.838707</td>\n",
       "      <td>0.425314</td>\n",
       "      <td>176384.728083</td>\n",
       "      <td>2.191683</td>\n",
       "      <td>5.744956</td>\n",
       "    </tr>\n",
       "    <tr>\n",
       "      <th>std</th>\n",
       "      <td>11.525400</td>\n",
       "      <td>0.723577</td>\n",
       "      <td>75033.530551</td>\n",
       "      <td>0.896300</td>\n",
       "      <td>6.736649</td>\n",
       "    </tr>\n",
       "    <tr>\n",
       "      <th>min</th>\n",
       "      <td>21.000000</td>\n",
       "      <td>0.000000</td>\n",
       "      <td>26100.000000</td>\n",
       "      <td>1.000000</td>\n",
       "      <td>-1.000000</td>\n",
       "    </tr>\n",
       "    <tr>\n",
       "      <th>25%</th>\n",
       "      <td>34.000000</td>\n",
       "      <td>0.000000</td>\n",
       "      <td>117000.000000</td>\n",
       "      <td>2.000000</td>\n",
       "      <td>1.000000</td>\n",
       "    </tr>\n",
       "    <tr>\n",
       "      <th>50%</th>\n",
       "      <td>43.000000</td>\n",
       "      <td>0.000000</td>\n",
       "      <td>157500.000000</td>\n",
       "      <td>2.000000</td>\n",
       "      <td>4.000000</td>\n",
       "    </tr>\n",
       "    <tr>\n",
       "      <th>75%</th>\n",
       "      <td>53.000000</td>\n",
       "      <td>1.000000</td>\n",
       "      <td>225000.000000</td>\n",
       "      <td>3.000000</td>\n",
       "      <td>8.500000</td>\n",
       "    </tr>\n",
       "    <tr>\n",
       "      <th>max</th>\n",
       "      <td>69.000000</td>\n",
       "      <td>19.000000</td>\n",
       "      <td>405000.000000</td>\n",
       "      <td>20.000000</td>\n",
       "      <td>48.000000</td>\n",
       "    </tr>\n",
       "  </tbody>\n",
       "</table>\n",
       "</div>"
      ],
      "text/plain": [
       "               Idade     Qtd_Filhos  Rendimento_Anual  Tamanho_Familia  \\\n",
       "count  425822.000000  425822.000000     425822.000000    425822.000000   \n",
       "mean       43.838707       0.425314     176384.728083         2.191683   \n",
       "std        11.525400       0.723577      75033.530551         0.896300   \n",
       "min        21.000000       0.000000      26100.000000         1.000000   \n",
       "25%        34.000000       0.000000     117000.000000         2.000000   \n",
       "50%        43.000000       0.000000     157500.000000         2.000000   \n",
       "75%        53.000000       1.000000     225000.000000         3.000000   \n",
       "max        69.000000      19.000000     405000.000000        20.000000   \n",
       "\n",
       "       Anos_empregado  \n",
       "count   425822.000000  \n",
       "mean         5.744956  \n",
       "std          6.736649  \n",
       "min         -1.000000  \n",
       "25%          1.000000  \n",
       "50%          4.000000  \n",
       "75%          8.500000  \n",
       "max         48.000000  "
      ]
     },
     "execution_count": 21,
     "metadata": {},
     "output_type": "execute_result"
    }
   ],
   "source": [
    "df_clientes_cadastrados_sem_outliers[colunas_quantitativas].describe()"
   ]
  },
  {
   "cell_type": "code",
   "execution_count": 22,
   "metadata": {},
   "outputs": [
    {
     "data": {
      "image/png": "[encoded data removed]",
      "text/plain": [
       "<Figure size 432x288 with 1 Axes>"
      ]
     },
     "metadata": {},
     "output_type": "display_data"
    }
   ],
   "source": [
    "#verificar a distribuição dos Rendimentos Anuais no novo dataframe, sem outliers\n",
    "sns.histplot(data=df_clientes_cadastrados_sem_outliers, x=\"Rendimento_Anual\", bins=10)\n",
    "plt.xticks(rotation=45)\n",
    "plt.show()"
   ]
  },
  {
   "cell_type": "code",
   "execution_count": 23,
   "metadata": {},
   "outputs": [
    {
     "data": {
      "image/png": "[encoded data removed]",
      "text/plain": [
       "<Figure size 432x288 with 1 Axes>"
      ]
     },
     "metadata": {},
     "output_type": "display_data"
    }
   ],
   "source": [
    "#verificar a distribuição da idade no novo dataframe, sem outliers\n",
    "sns.histplot(data=df_clientes_cadastrados_sem_outliers, x=\"Idade\")\n",
    "plt.xticks(rotation=45)\n",
    "plt.show()"
   ]
  },
  {
   "cell_type": "code",
   "execution_count": 24,
   "metadata": {},
   "outputs": [
    {
     "data": {
      "image/png": "[encoded data removed]",
      "text/plain": [
       "<Figure size 432x288 with 1 Axes>"
      ]
     },
     "metadata": {},
     "output_type": "display_data"
    }
   ],
   "source": [
    "#verificar a distribuição dos Amnos Empregados no novo dataframe, sem outliers\n",
    "sns.histplot(data=df_clientes_cadastrados_sem_outliers.query(\"Anos_empregado > 0\"), x=\"Anos_empregado\")\n",
    "plt.xticks(rotation=45)\n",
    "plt.show()"
   ]
  },
  {
   "cell_type": "markdown",
   "metadata": {},
   "source": [
    "## Variáveis Categóricas"
   ]
  },
  {
   "cell_type": "code",
   "execution_count": 25,
   "metadata": {},
   "outputs": [
    {
     "name": "stdout",
     "output_type": "stream",
     "text": [
      "<class 'pandas.core.frame.DataFrame'>\n",
      "Int64Index: 425822 entries, 2 to 438556\n",
      "Data columns (total 18 columns):\n",
      " #   Column                 Non-Null Count   Dtype  \n",
      "---  ------                 --------------   -----  \n",
      " 0   ID_Cliente             425822 non-null  int64  \n",
      " 1   Genero                 425822 non-null  object \n",
      " 2   Tem_Carro              425822 non-null  int64  \n",
      " 3   Tem_Casa_Propria       425822 non-null  int64  \n",
      " 4   Qtd_Filhos             425822 non-null  int64  \n",
      " 5   Rendimento_Anual       425822 non-null  float64\n",
      " 6   Categoria_de_renda     425822 non-null  object \n",
      " 7   Grau_Escolaridade      425822 non-null  object \n",
      " 8   Estado_Civil           425822 non-null  object \n",
      " 9   Moradia                425822 non-null  object \n",
      " 10  Idade                  425822 non-null  float64\n",
      " 11  Tem_Celular            425822 non-null  int64  \n",
      " 12  Tem_telefone_trabalho  425822 non-null  int64  \n",
      " 13  Tem_telefone_fixo      425822 non-null  int64  \n",
      " 14  Tem_email              425822 non-null  int64  \n",
      " 15  Ocupacao               425822 non-null  object \n",
      " 16  Tamanho_Familia        425822 non-null  float64\n",
      " 17  Anos_empregado         425822 non-null  float64\n",
      "dtypes: float64(4), int64(8), object(6)\n",
      "memory usage: 61.7+ MB\n"
     ]
    }
   ],
   "source": [
    "df_clientes_cadastrados_sem_outliers.info()"
   ]
  },
  {
   "cell_type": "code",
   "execution_count": 26,
   "metadata": {},
   "outputs": [],
   "source": [
    "colunas_categoricas = [\"Genero\", \"Tem_Carro\", \"Tem_Casa_Propria\", \"Categoria_de_renda\", \"Grau_Escolaridade\", \"Estado_Civil\",\n",
    "                       \"Moradia\", \"Tem_Celular\", \"Tem_telefone_trabalho\", \"Tem_telefone_fixo\",\"Tem_email\", \"Ocupacao\"]"
   ]
  },
  {
   "cell_type": "code",
   "execution_count": 27,
   "metadata": {},
   "outputs": [
    {
     "data": {
      "image/png": "[encoded data removed]",
      "text/plain": [
       "<Figure size 432x288 with 1 Axes>"
      ]
     },
     "metadata": {},
     "output_type": "display_data"
    }
   ],
   "source": [
    "sns.countplot(x = \"Estado_Civil\", data = df_clientes_cadastrados_sem_outliers)\n",
    "plt.xticks(rotation=45, ha='right')\n",
    "plt.show()\n",
    "#a maioria dos clientes é casada"
   ]
  },
  {
   "cell_type": "code",
   "execution_count": 28,
   "metadata": {},
   "outputs": [
    {
     "data": {
      "image/png": "[encoded data removed]",
      "text/plain": [
       "<Figure size 432x288 with 1 Axes>"
      ]
     },
     "metadata": {},
     "output_type": "display_data"
    }
   ],
   "source": [
    "sns.countplot(x = \"Tem_Celular\", data = df_clientes_cadastrados_sem_outliers)\n",
    "plt.xticks(rotation=45, ha='right')\n",
    "plt.show()\n",
    "#todos os clientes têm celular"
   ]
  },
  {
   "cell_type": "code",
   "execution_count": 29,
   "metadata": {},
   "outputs": [
    {
     "data": {
      "image/png": "[encoded data removed]",
      "text/plain": [
       "<Figure size 432x288 with 1 Axes>"
      ]
     },
     "metadata": {},
     "output_type": "display_data"
    }
   ],
   "source": [
    "sns.countplot(x = \"Ocupacao\", data = df_clientes_cadastrados_sem_outliers)\n",
    "plt.xticks(rotation=45, ha='right')\n",
    "plt.show()\n",
    "#a maior barra é de Outros\n",
    "#hipóteses: várias profissões estão contidas nessa categoria, ou apenas uma como \"Educação\", que não está disponível no dataset\n",
    "#para isso vamos verificar a renda dessa coluna"
   ]
  },
  {
   "cell_type": "code",
   "execution_count": 30,
   "metadata": {},
   "outputs": [
    {
     "data": {
      "image/png": "[encoded data removed]",
      "text/plain": [
       "<Figure size 432x288 with 1 Axes>"
      ]
     },
     "metadata": {},
     "output_type": "display_data"
    }
   ],
   "source": [
    "sns.histplot(data=df_clientes_cadastrados_sem_outliers.query(\"Ocupacao == 'Outros'\"), x=\"Rendimento_Anual\", bins=10)\n",
    "plt.xticks(rotation=45, ha='right')\n",
    "plt.show()\n",
    "#a renda da categoria Outros é bem distribuída, aparentemente há várias Ocupações nessa categoria que não estão listadas no dataset"
   ]
  },
  {
   "cell_type": "code",
   "execution_count": 31,
   "metadata": {},
   "outputs": [
    {
     "data": {
      "text/plain": [
       "(425822, 18)"
      ]
     },
     "execution_count": 31,
     "metadata": {},
     "output_type": "execute_result"
    }
   ],
   "source": [
    "df_clientes_cadastrados_sem_outliers.shape"
   ]
  },
  {
   "cell_type": "code",
   "execution_count": 32,
   "metadata": {},
   "outputs": [
    {
     "data": {
      "text/plain": [
       "(425822, 17)"
      ]
     },
     "execution_count": 32,
     "metadata": {},
     "output_type": "execute_result"
    }
   ],
   "source": [
    "#como todos os clientes têm celular, vamos remover a coluna Tem_Celular\n",
    "df_clientes_cadastrados_sem_outliers_tratamento1 = df_clientes_cadastrados_sem_outliers.drop(\"Tem_Celular\", axis=1)\n",
    "df_clientes_cadastrados_sem_outliers_tratamento1.shape"
   ]
  },
  {
   "cell_type": "code",
   "execution_count": 33,
   "metadata": {},
   "outputs": [
    {
     "data": {
      "text/plain": [
       "(425822, 16)"
      ]
     },
     "execution_count": 33,
     "metadata": {},
     "output_type": "execute_result"
    }
   ],
   "source": [
    "#Por lei deveremos desconsiderar os seguintes dados sensíveis, que não podem ser considerados na hora de aprovar o crédito:\n",
    "#Origem social e étnica\n",
    "#Condições de Saúde\n",
    "#Informação Genética\n",
    "#Orientação Sexual\n",
    "#Convicções políticas, religiosas e filosóficas\n",
    "\n",
    "#Portando, vamos retirar a coluna Gênero\n",
    "df_clientes_cadastrados_sem_outliers_tratamento1 = df_clientes_cadastrados_sem_outliers_tratamento1.drop(\"Genero\", axis=1)\n",
    "df_clientes_cadastrados_sem_outliers_tratamento1.shape"
   ]
  },
  {
   "cell_type": "code",
   "execution_count": 34,
   "metadata": {},
   "outputs": [
    {
     "data": {
      "text/plain": [
       "(425822, 16)"
      ]
     },
     "execution_count": 34,
     "metadata": {},
     "output_type": "execute_result"
    }
   ],
   "source": [
    "df_clientes_cadastrados_sem_outliers_tratamento1.shape"
   ]
  },
  {
   "cell_type": "code",
   "execution_count": 35,
   "metadata": {},
   "outputs": [
    {
     "data": {
      "text/plain": [
       "['Tem_Carro',\n",
       " 'Tem_Casa_Propria',\n",
       " 'Categoria_de_renda',\n",
       " 'Grau_Escolaridade',\n",
       " 'Estado_Civil',\n",
       " 'Moradia',\n",
       " 'Tem_telefone_trabalho',\n",
       " 'Tem_telefone_fixo',\n",
       " 'Tem_email',\n",
       " 'Ocupacao']"
      ]
     },
     "execution_count": 35,
     "metadata": {},
     "output_type": "execute_result"
    }
   ],
   "source": [
    "colunas_categoricas.remove(\"Genero\")\n",
    "colunas_categoricas.remove(\"Tem_Celular\")\n",
    "colunas_categoricas"
   ]
  },
  {
   "cell_type": "markdown",
   "metadata": {},
   "source": [
    "## Desafio 02: Criar uma função para gerar novos gráficos"
   ]
  },
  {
   "cell_type": "markdown",
   "metadata": {},
   "source": [
    "## Desafio 03: Continuar a análise exploratória dos dados"
   ]
  },
  {
   "cell_type": "markdown",
   "metadata": {},
   "source": [
    "# Aula 03 *********************************************************"
   ]
  },
  {
   "cell_type": "code",
   "execution_count": 37,
   "metadata": {},
   "outputs": [
    {
     "data": {
      "text/html": [
       "<div>\n",
       "<style scoped>\n",
       "    .dataframe tbody tr th:only-of-type {\n",
       "        vertical-align: middle;\n",
       "    }\n",
       "\n",
       "    .dataframe tbody tr th {\n",
       "        vertical-align: top;\n",
       "    }\n",
       "\n",
       "    .dataframe thead th {\n",
       "        text-align: right;\n",
       "    }\n",
       "</style>\n",
       "<table border=\"1\" class=\"dataframe\">\n",
       "  <thead>\n",
       "    <tr style=\"text-align: right;\">\n",
       "      <th></th>\n",
       "      <th>ID_Cliente</th>\n",
       "      <th>Mes_referencia</th>\n",
       "      <th>Faixa_atraso</th>\n",
       "    </tr>\n",
       "  </thead>\n",
       "  <tbody>\n",
       "    <tr>\n",
       "      <th>0</th>\n",
       "      <td>5001711</td>\n",
       "      <td>0</td>\n",
       "      <td>nenhum empréstimo</td>\n",
       "    </tr>\n",
       "    <tr>\n",
       "      <th>1</th>\n",
       "      <td>5001711</td>\n",
       "      <td>-1</td>\n",
       "      <td>1-29 dias</td>\n",
       "    </tr>\n",
       "    <tr>\n",
       "      <th>2</th>\n",
       "      <td>5001711</td>\n",
       "      <td>-2</td>\n",
       "      <td>1-29 dias</td>\n",
       "    </tr>\n",
       "    <tr>\n",
       "      <th>3</th>\n",
       "      <td>5001711</td>\n",
       "      <td>-3</td>\n",
       "      <td>1-29 dias</td>\n",
       "    </tr>\n",
       "    <tr>\n",
       "      <th>4</th>\n",
       "      <td>5001712</td>\n",
       "      <td>0</td>\n",
       "      <td>pagamento realizado</td>\n",
       "    </tr>\n",
       "  </tbody>\n",
       "</table>\n",
       "</div>"
      ],
      "text/plain": [
       "   ID_Cliente  Mes_referencia         Faixa_atraso\n",
       "0     5001711               0    nenhum empréstimo\n",
       "1     5001711              -1            1-29 dias\n",
       "2     5001711              -2            1-29 dias\n",
       "3     5001711              -3            1-29 dias\n",
       "4     5001712               0  pagamento realizado"
      ]
     },
     "execution_count": 37,
     "metadata": {},
     "output_type": "execute_result"
    }
   ],
   "source": [
    "df_clientes_aprovados = pd.read_csv('https://raw.githubusercontent.com/alura-cursos/Avaliacao_Credito/main/dados/clientes_aprovados.csv')\n",
    "df_clientes_aprovados.head()"
   ]
  },
  {
   "cell_type": "code",
   "execution_count": 38,
   "metadata": {},
   "outputs": [
    {
     "name": "stdout",
     "output_type": "stream",
     "text": [
      "<class 'pandas.core.frame.DataFrame'>\n",
      "RangeIndex: 1048575 entries, 0 to 1048574\n",
      "Data columns (total 3 columns):\n",
      " #   Column          Non-Null Count    Dtype \n",
      "---  ------          --------------    ----- \n",
      " 0   ID_Cliente      1048575 non-null  int64 \n",
      " 1   Mes_referencia  1048575 non-null  int64 \n",
      " 2   Faixa_atraso    1048575 non-null  object\n",
      "dtypes: int64(2), object(1)\n",
      "memory usage: 24.0+ MB\n"
     ]
    }
   ],
   "source": [
    "df_clientes_aprovados.info()"
   ]
  },
  {
   "cell_type": "code",
   "execution_count": 45,
   "metadata": {},
   "outputs": [
    {
     "data": {
      "text/plain": [
       "(45985,)"
      ]
     },
     "execution_count": 45,
     "metadata": {},
     "output_type": "execute_result"
    }
   ],
   "source": [
    "#neste dataset o mesmo cliente está em mais de uma linha\n",
    "#vamos ver a quantidade de clientes aprovados\n",
    "df_clientes_aprovados.ID_Cliente.value_counts().shape"
   ]
  },
  {
   "cell_type": "code",
   "execution_count": 42,
   "metadata": {},
   "outputs": [
    {
     "data": {
      "text/plain": [
       "(425822, 16)"
      ]
     },
     "execution_count": 42,
     "metadata": {},
     "output_type": "execute_result"
    }
   ],
   "source": [
    "#vamos comparar com a quantidade de clientes cadastrados no dataset de clientes cadastrados\n",
    "df_clientes_cadastrados_sem_outliers_tratamento1.shape"
   ]
  },
  {
   "cell_type": "code",
   "execution_count": 46,
   "metadata": {},
   "outputs": [
    {
     "data": {
      "text/html": [
       "<div>\n",
       "<style scoped>\n",
       "    .dataframe tbody tr th:only-of-type {\n",
       "        vertical-align: middle;\n",
       "    }\n",
       "\n",
       "    .dataframe tbody tr th {\n",
       "        vertical-align: top;\n",
       "    }\n",
       "\n",
       "    .dataframe thead th {\n",
       "        text-align: right;\n",
       "    }\n",
       "</style>\n",
       "<table border=\"1\" class=\"dataframe\">\n",
       "  <thead>\n",
       "    <tr style=\"text-align: right;\">\n",
       "      <th></th>\n",
       "      <th>ID_Cliente</th>\n",
       "      <th>Mes_referencia</th>\n",
       "      <th>Faixa_atraso</th>\n",
       "    </tr>\n",
       "  </thead>\n",
       "  <tbody>\n",
       "    <tr>\n",
       "      <th>4</th>\n",
       "      <td>5001712</td>\n",
       "      <td>0</td>\n",
       "      <td>pagamento realizado</td>\n",
       "    </tr>\n",
       "    <tr>\n",
       "      <th>5</th>\n",
       "      <td>5001712</td>\n",
       "      <td>-1</td>\n",
       "      <td>pagamento realizado</td>\n",
       "    </tr>\n",
       "    <tr>\n",
       "      <th>6</th>\n",
       "      <td>5001712</td>\n",
       "      <td>-2</td>\n",
       "      <td>pagamento realizado</td>\n",
       "    </tr>\n",
       "    <tr>\n",
       "      <th>7</th>\n",
       "      <td>5001712</td>\n",
       "      <td>-3</td>\n",
       "      <td>pagamento realizado</td>\n",
       "    </tr>\n",
       "    <tr>\n",
       "      <th>8</th>\n",
       "      <td>5001712</td>\n",
       "      <td>-4</td>\n",
       "      <td>pagamento realizado</td>\n",
       "    </tr>\n",
       "    <tr>\n",
       "      <th>9</th>\n",
       "      <td>5001712</td>\n",
       "      <td>-5</td>\n",
       "      <td>pagamento realizado</td>\n",
       "    </tr>\n",
       "    <tr>\n",
       "      <th>10</th>\n",
       "      <td>5001712</td>\n",
       "      <td>-6</td>\n",
       "      <td>pagamento realizado</td>\n",
       "    </tr>\n",
       "    <tr>\n",
       "      <th>11</th>\n",
       "      <td>5001712</td>\n",
       "      <td>-7</td>\n",
       "      <td>pagamento realizado</td>\n",
       "    </tr>\n",
       "    <tr>\n",
       "      <th>12</th>\n",
       "      <td>5001712</td>\n",
       "      <td>-8</td>\n",
       "      <td>pagamento realizado</td>\n",
       "    </tr>\n",
       "    <tr>\n",
       "      <th>13</th>\n",
       "      <td>5001712</td>\n",
       "      <td>-9</td>\n",
       "      <td>1-29 dias</td>\n",
       "    </tr>\n",
       "    <tr>\n",
       "      <th>14</th>\n",
       "      <td>5001712</td>\n",
       "      <td>-10</td>\n",
       "      <td>1-29 dias</td>\n",
       "    </tr>\n",
       "    <tr>\n",
       "      <th>15</th>\n",
       "      <td>5001712</td>\n",
       "      <td>-11</td>\n",
       "      <td>1-29 dias</td>\n",
       "    </tr>\n",
       "    <tr>\n",
       "      <th>16</th>\n",
       "      <td>5001712</td>\n",
       "      <td>-12</td>\n",
       "      <td>1-29 dias</td>\n",
       "    </tr>\n",
       "    <tr>\n",
       "      <th>17</th>\n",
       "      <td>5001712</td>\n",
       "      <td>-13</td>\n",
       "      <td>1-29 dias</td>\n",
       "    </tr>\n",
       "    <tr>\n",
       "      <th>18</th>\n",
       "      <td>5001712</td>\n",
       "      <td>-14</td>\n",
       "      <td>1-29 dias</td>\n",
       "    </tr>\n",
       "    <tr>\n",
       "      <th>19</th>\n",
       "      <td>5001712</td>\n",
       "      <td>-15</td>\n",
       "      <td>1-29 dias</td>\n",
       "    </tr>\n",
       "    <tr>\n",
       "      <th>20</th>\n",
       "      <td>5001712</td>\n",
       "      <td>-16</td>\n",
       "      <td>1-29 dias</td>\n",
       "    </tr>\n",
       "    <tr>\n",
       "      <th>21</th>\n",
       "      <td>5001712</td>\n",
       "      <td>-17</td>\n",
       "      <td>1-29 dias</td>\n",
       "    </tr>\n",
       "    <tr>\n",
       "      <th>22</th>\n",
       "      <td>5001712</td>\n",
       "      <td>-18</td>\n",
       "      <td>1-29 dias</td>\n",
       "    </tr>\n",
       "  </tbody>\n",
       "</table>\n",
       "</div>"
      ],
      "text/plain": [
       "    ID_Cliente  Mes_referencia         Faixa_atraso\n",
       "4      5001712               0  pagamento realizado\n",
       "5      5001712              -1  pagamento realizado\n",
       "6      5001712              -2  pagamento realizado\n",
       "7      5001712              -3  pagamento realizado\n",
       "8      5001712              -4  pagamento realizado\n",
       "9      5001712              -5  pagamento realizado\n",
       "10     5001712              -6  pagamento realizado\n",
       "11     5001712              -7  pagamento realizado\n",
       "12     5001712              -8  pagamento realizado\n",
       "13     5001712              -9            1-29 dias\n",
       "14     5001712             -10            1-29 dias\n",
       "15     5001712             -11            1-29 dias\n",
       "16     5001712             -12            1-29 dias\n",
       "17     5001712             -13            1-29 dias\n",
       "18     5001712             -14            1-29 dias\n",
       "19     5001712             -15            1-29 dias\n",
       "20     5001712             -16            1-29 dias\n",
       "21     5001712             -17            1-29 dias\n",
       "22     5001712             -18            1-29 dias"
      ]
     },
     "execution_count": 46,
     "metadata": {},
     "output_type": "execute_result"
    }
   ],
   "source": [
    "#vamos olhar alguns clientes aprovados\n",
    "df_clientes_aprovados.query(\"ID_Cliente == 5001712\")"
   ]
  },
  {
   "cell_type": "code",
   "execution_count": 47,
   "metadata": {},
   "outputs": [
    {
     "data": {
      "text/html": [
       "<div>\n",
       "<style scoped>\n",
       "    .dataframe tbody tr th:only-of-type {\n",
       "        vertical-align: middle;\n",
       "    }\n",
       "\n",
       "    .dataframe tbody tr th {\n",
       "        vertical-align: top;\n",
       "    }\n",
       "\n",
       "    .dataframe thead th {\n",
       "        text-align: right;\n",
       "    }\n",
       "</style>\n",
       "<table border=\"1\" class=\"dataframe\">\n",
       "  <thead>\n",
       "    <tr style=\"text-align: right;\">\n",
       "      <th></th>\n",
       "      <th>ID_Cliente</th>\n",
       "      <th>Mes_referencia</th>\n",
       "      <th>Faixa_atraso</th>\n",
       "    </tr>\n",
       "  </thead>\n",
       "  <tbody>\n",
       "    <tr>\n",
       "      <th>0</th>\n",
       "      <td>5001711</td>\n",
       "      <td>0</td>\n",
       "      <td>nenhum empréstimo</td>\n",
       "    </tr>\n",
       "    <tr>\n",
       "      <th>1</th>\n",
       "      <td>5001711</td>\n",
       "      <td>-1</td>\n",
       "      <td>1-29 dias</td>\n",
       "    </tr>\n",
       "    <tr>\n",
       "      <th>2</th>\n",
       "      <td>5001711</td>\n",
       "      <td>-2</td>\n",
       "      <td>1-29 dias</td>\n",
       "    </tr>\n",
       "    <tr>\n",
       "      <th>3</th>\n",
       "      <td>5001711</td>\n",
       "      <td>-3</td>\n",
       "      <td>1-29 dias</td>\n",
       "    </tr>\n",
       "  </tbody>\n",
       "</table>\n",
       "</div>"
      ],
      "text/plain": [
       "   ID_Cliente  Mes_referencia       Faixa_atraso\n",
       "0     5001711               0  nenhum empréstimo\n",
       "1     5001711              -1          1-29 dias\n",
       "2     5001711              -2          1-29 dias\n",
       "3     5001711              -3          1-29 dias"
      ]
     },
     "execution_count": 47,
     "metadata": {},
     "output_type": "execute_result"
    }
   ],
   "source": [
    "df_clientes_aprovados.query(\"ID_Cliente == 5001711\")"
   ]
  },
  {
   "cell_type": "code",
   "execution_count": 48,
   "metadata": {},
   "outputs": [
    {
     "data": {
      "text/plain": [
       "['pagamento realizado',\n",
       " '1-29 dias',\n",
       " 'nenhum empréstimo',\n",
       " '30-59 dias',\n",
       " '>150 dias',\n",
       " '60-89 dias',\n",
       " '90-119 dias',\n",
       " '120-149 dias']"
      ]
     },
     "execution_count": 48,
     "metadata": {},
     "output_type": "execute_result"
    }
   ],
   "source": [
    "#vamos verificar quantas faixas de atraso há no dataset de clientes aprovados\n",
    "df_clientes_aprovados.Faixa_atraso.value_counts().index.to_list()"
   ]
  },
  {
   "cell_type": "markdown",
   "metadata": {},
   "source": [
    "### como é calculado a abertura de crédito ?\n",
    "\n",
    "### Criamos uma variavel para guardar os dados da váriavel df_registros_creditos agrupados por ID_Cliente, vamos dar o nome de df_registros_creditos_agrupados_ID, para agrupar usamos o método groupby.\n",
    "\n",
    "### Depois vamos utilizar o método apply para iterar por cada ID_Cliente, e vamos utilizar o lambda para criar uma lógica, e essa lógica vai ser aplicada em X, mas o que é X ? X vai ser um DataFrame composto apenas por linhas de um ID por vez, a logíca que vai ser aplicada é calcular, através da função min, o menor valor da coluna Mes_referencia.\n",
    "\n",
    "### o retorno dessa função apply vai uma Serie de tamanho igual a quantidade de clientes que temos e vai guardar o menor valor Mes_referencia de cada cliente, vamos salvar isso na váriavel ser_abertura."
   ]
  },
  {
   "cell_type": "code",
   "execution_count": 50,
   "metadata": {},
   "outputs": [
    {
     "data": {
      "text/plain": [
       "ID_Cliente\n",
       "5001711    -3\n",
       "5001712   -18\n",
       "5001713   -21\n",
       "5001714   -14\n",
       "5001715   -59\n",
       "           ..\n",
       "5150482   -28\n",
       "5150483   -17\n",
       "5150484   -12\n",
       "5150485    -1\n",
       "5150487   -29\n",
       "Name: Abertura, Length: 45985, dtype: int64"
      ]
     },
     "execution_count": 50,
     "metadata": {},
     "output_type": "execute_result"
    }
   ],
   "source": [
    "df_registros_creditos_agrupados_ID = df_clientes_aprovados.groupby('ID_Cliente')\n",
    "ser_abertura = df_registros_creditos_agrupados_ID.apply(lambda x: min(x['Mes_referencia']))\n",
    "ser_abertura.name = 'Abertura'\n",
    "ser_abertura"
   ]
  },
  {
   "cell_type": "code",
   "execution_count": 51,
   "metadata": {},
   "outputs": [
    {
     "data": {
      "text/html": [
       "<div>\n",
       "<style scoped>\n",
       "    .dataframe tbody tr th:only-of-type {\n",
       "        vertical-align: middle;\n",
       "    }\n",
       "\n",
       "    .dataframe tbody tr th {\n",
       "        vertical-align: top;\n",
       "    }\n",
       "\n",
       "    .dataframe thead th {\n",
       "        text-align: right;\n",
       "    }\n",
       "</style>\n",
       "<table border=\"1\" class=\"dataframe\">\n",
       "  <thead>\n",
       "    <tr style=\"text-align: right;\">\n",
       "      <th></th>\n",
       "      <th>ID_Cliente</th>\n",
       "      <th>Mes_referencia</th>\n",
       "      <th>Faixa_atraso</th>\n",
       "      <th>Abertura</th>\n",
       "    </tr>\n",
       "  </thead>\n",
       "  <tbody>\n",
       "    <tr>\n",
       "      <th>0</th>\n",
       "      <td>5001711</td>\n",
       "      <td>0</td>\n",
       "      <td>nenhum empréstimo</td>\n",
       "      <td>-3</td>\n",
       "    </tr>\n",
       "    <tr>\n",
       "      <th>1</th>\n",
       "      <td>5001711</td>\n",
       "      <td>-1</td>\n",
       "      <td>1-29 dias</td>\n",
       "      <td>-3</td>\n",
       "    </tr>\n",
       "    <tr>\n",
       "      <th>2</th>\n",
       "      <td>5001711</td>\n",
       "      <td>-2</td>\n",
       "      <td>1-29 dias</td>\n",
       "      <td>-3</td>\n",
       "    </tr>\n",
       "    <tr>\n",
       "      <th>3</th>\n",
       "      <td>5001711</td>\n",
       "      <td>-3</td>\n",
       "      <td>1-29 dias</td>\n",
       "      <td>-3</td>\n",
       "    </tr>\n",
       "    <tr>\n",
       "      <th>4</th>\n",
       "      <td>5001712</td>\n",
       "      <td>0</td>\n",
       "      <td>pagamento realizado</td>\n",
       "      <td>-18</td>\n",
       "    </tr>\n",
       "  </tbody>\n",
       "</table>\n",
       "</div>"
      ],
      "text/plain": [
       "   ID_Cliente  Mes_referencia         Faixa_atraso  Abertura\n",
       "0     5001711               0    nenhum empréstimo        -3\n",
       "1     5001711              -1            1-29 dias        -3\n",
       "2     5001711              -2            1-29 dias        -3\n",
       "3     5001711              -3            1-29 dias        -3\n",
       "4     5001712               0  pagamento realizado       -18"
      ]
     },
     "execution_count": 51,
     "metadata": {},
     "output_type": "execute_result"
    }
   ],
   "source": [
    "df_clientes_aprovados = df_clientes_aprovados.merge(ser_abertura, on='ID_Cliente')\n",
    "df_clientes_aprovados.head()"
   ]
  },
  {
   "cell_type": "markdown",
   "metadata": {},
   "source": [
    "### como é calculado o ultimo mês do crédito ?\n",
    "\n",
    "### Novamente usamos a váriavel df_registros_creditos_agrupados_ID.\n",
    "\n",
    "### Depois vamos utilizar o método apply para iterar por cada ID_Cliente, e vamos utilizar o lambda para criar uma lógica, e essa lógica vai ser aplicada em X, mas o que é X ? X vai ser um DataFrame composto apenas por linhas de um ID por vez, a logíca que vai ser aplicada é calcular, através da função max, o maior valor da coluna Mes_referencia.\n",
    "\n",
    "### o retorno dessa função apply vai uma Serie de tamanho igual a quantidade de clientes que temos e vai guardar o maior valor Mes_referencia de cada cliente, vamos salvar isso na váriavel ser_final."
   ]
  },
  {
   "cell_type": "code",
   "execution_count": 52,
   "metadata": {},
   "outputs": [
    {
     "data": {
      "text/plain": [
       "ID_Cliente\n",
       "5001711     0\n",
       "5001712     0\n",
       "5001713     0\n",
       "5001714     0\n",
       "5001715     0\n",
       "           ..\n",
       "5150482   -11\n",
       "5150483     0\n",
       "5150484     0\n",
       "5150485     0\n",
       "5150487     0\n",
       "Name: Final, Length: 45985, dtype: int64"
      ]
     },
     "execution_count": 52,
     "metadata": {},
     "output_type": "execute_result"
    }
   ],
   "source": [
    "ser_final = df_registros_creditos_agrupados_ID.apply(lambda x: max(x['Mes_referencia']))\n",
    "ser_final.name = 'Final'\n",
    "ser_final"
   ]
  },
  {
   "cell_type": "code",
   "execution_count": 53,
   "metadata": {},
   "outputs": [
    {
     "data": {
      "text/html": [
       "<div>\n",
       "<style scoped>\n",
       "    .dataframe tbody tr th:only-of-type {\n",
       "        vertical-align: middle;\n",
       "    }\n",
       "\n",
       "    .dataframe tbody tr th {\n",
       "        vertical-align: top;\n",
       "    }\n",
       "\n",
       "    .dataframe thead th {\n",
       "        text-align: right;\n",
       "    }\n",
       "</style>\n",
       "<table border=\"1\" class=\"dataframe\">\n",
       "  <thead>\n",
       "    <tr style=\"text-align: right;\">\n",
       "      <th></th>\n",
       "      <th>ID_Cliente</th>\n",
       "      <th>Mes_referencia</th>\n",
       "      <th>Faixa_atraso</th>\n",
       "      <th>Abertura</th>\n",
       "      <th>Final</th>\n",
       "    </tr>\n",
       "  </thead>\n",
       "  <tbody>\n",
       "    <tr>\n",
       "      <th>0</th>\n",
       "      <td>5001711</td>\n",
       "      <td>0</td>\n",
       "      <td>nenhum empréstimo</td>\n",
       "      <td>-3</td>\n",
       "      <td>0</td>\n",
       "    </tr>\n",
       "    <tr>\n",
       "      <th>1</th>\n",
       "      <td>5001711</td>\n",
       "      <td>-1</td>\n",
       "      <td>1-29 dias</td>\n",
       "      <td>-3</td>\n",
       "      <td>0</td>\n",
       "    </tr>\n",
       "    <tr>\n",
       "      <th>2</th>\n",
       "      <td>5001711</td>\n",
       "      <td>-2</td>\n",
       "      <td>1-29 dias</td>\n",
       "      <td>-3</td>\n",
       "      <td>0</td>\n",
       "    </tr>\n",
       "    <tr>\n",
       "      <th>3</th>\n",
       "      <td>5001711</td>\n",
       "      <td>-3</td>\n",
       "      <td>1-29 dias</td>\n",
       "      <td>-3</td>\n",
       "      <td>0</td>\n",
       "    </tr>\n",
       "    <tr>\n",
       "      <th>4</th>\n",
       "      <td>5001712</td>\n",
       "      <td>0</td>\n",
       "      <td>pagamento realizado</td>\n",
       "      <td>-18</td>\n",
       "      <td>0</td>\n",
       "    </tr>\n",
       "  </tbody>\n",
       "</table>\n",
       "</div>"
      ],
      "text/plain": [
       "   ID_Cliente  Mes_referencia         Faixa_atraso  Abertura  Final\n",
       "0     5001711               0    nenhum empréstimo        -3      0\n",
       "1     5001711              -1            1-29 dias        -3      0\n",
       "2     5001711              -2            1-29 dias        -3      0\n",
       "3     5001711              -3            1-29 dias        -3      0\n",
       "4     5001712               0  pagamento realizado       -18      0"
      ]
     },
     "execution_count": 53,
     "metadata": {},
     "output_type": "execute_result"
    }
   ],
   "source": [
    "df_clientes_aprovados = df_clientes_aprovados.merge(ser_final, on='ID_Cliente')\n",
    "df_clientes_aprovados.head()"
   ]
  },
  {
   "cell_type": "code",
   "execution_count": 54,
   "metadata": {},
   "outputs": [
    {
     "data": {
      "text/html": [
       "<div>\n",
       "<style scoped>\n",
       "    .dataframe tbody tr th:only-of-type {\n",
       "        vertical-align: middle;\n",
       "    }\n",
       "\n",
       "    .dataframe tbody tr th {\n",
       "        vertical-align: top;\n",
       "    }\n",
       "\n",
       "    .dataframe thead th {\n",
       "        text-align: right;\n",
       "    }\n",
       "</style>\n",
       "<table border=\"1\" class=\"dataframe\">\n",
       "  <thead>\n",
       "    <tr style=\"text-align: right;\">\n",
       "      <th></th>\n",
       "      <th>ID_Cliente</th>\n",
       "      <th>Mes_referencia</th>\n",
       "      <th>Faixa_atraso</th>\n",
       "      <th>Abertura</th>\n",
       "      <th>Final</th>\n",
       "      <th>Janela</th>\n",
       "    </tr>\n",
       "  </thead>\n",
       "  <tbody>\n",
       "    <tr>\n",
       "      <th>0</th>\n",
       "      <td>5001711</td>\n",
       "      <td>0</td>\n",
       "      <td>nenhum empréstimo</td>\n",
       "      <td>-3</td>\n",
       "      <td>0</td>\n",
       "      <td>3</td>\n",
       "    </tr>\n",
       "    <tr>\n",
       "      <th>1</th>\n",
       "      <td>5001711</td>\n",
       "      <td>-1</td>\n",
       "      <td>1-29 dias</td>\n",
       "      <td>-3</td>\n",
       "      <td>0</td>\n",
       "      <td>3</td>\n",
       "    </tr>\n",
       "    <tr>\n",
       "      <th>2</th>\n",
       "      <td>5001711</td>\n",
       "      <td>-2</td>\n",
       "      <td>1-29 dias</td>\n",
       "      <td>-3</td>\n",
       "      <td>0</td>\n",
       "      <td>3</td>\n",
       "    </tr>\n",
       "    <tr>\n",
       "      <th>3</th>\n",
       "      <td>5001711</td>\n",
       "      <td>-3</td>\n",
       "      <td>1-29 dias</td>\n",
       "      <td>-3</td>\n",
       "      <td>0</td>\n",
       "      <td>3</td>\n",
       "    </tr>\n",
       "    <tr>\n",
       "      <th>4</th>\n",
       "      <td>5001712</td>\n",
       "      <td>0</td>\n",
       "      <td>pagamento realizado</td>\n",
       "      <td>-18</td>\n",
       "      <td>0</td>\n",
       "      <td>18</td>\n",
       "    </tr>\n",
       "  </tbody>\n",
       "</table>\n",
       "</div>"
      ],
      "text/plain": [
       "   ID_Cliente  Mes_referencia         Faixa_atraso  Abertura  Final  Janela\n",
       "0     5001711               0    nenhum empréstimo        -3      0       3\n",
       "1     5001711              -1            1-29 dias        -3      0       3\n",
       "2     5001711              -2            1-29 dias        -3      0       3\n",
       "3     5001711              -3            1-29 dias        -3      0       3\n",
       "4     5001712               0  pagamento realizado       -18      0      18"
      ]
     },
     "execution_count": 54,
     "metadata": {},
     "output_type": "execute_result"
    }
   ],
   "source": [
    "df_clientes_aprovados['Janela'] = df_clientes_aprovados['Final'] - df_clientes_aprovados['Abertura']\n",
    "df_clientes_aprovados.head()"
   ]
  },
  {
   "cell_type": "code",
   "execution_count": 55,
   "metadata": {},
   "outputs": [
    {
     "data": {
      "text/html": [
       "<div>\n",
       "<style scoped>\n",
       "    .dataframe tbody tr th:only-of-type {\n",
       "        vertical-align: middle;\n",
       "    }\n",
       "\n",
       "    .dataframe tbody tr th {\n",
       "        vertical-align: top;\n",
       "    }\n",
       "\n",
       "    .dataframe thead th {\n",
       "        text-align: right;\n",
       "    }\n",
       "</style>\n",
       "<table border=\"1\" class=\"dataframe\">\n",
       "  <thead>\n",
       "    <tr style=\"text-align: right;\">\n",
       "      <th></th>\n",
       "      <th>ID_Cliente</th>\n",
       "      <th>Mes_referencia</th>\n",
       "      <th>Faixa_atraso</th>\n",
       "      <th>Abertura</th>\n",
       "      <th>Final</th>\n",
       "      <th>Janela</th>\n",
       "      <th>MOB</th>\n",
       "    </tr>\n",
       "  </thead>\n",
       "  <tbody>\n",
       "    <tr>\n",
       "      <th>0</th>\n",
       "      <td>5001711</td>\n",
       "      <td>0</td>\n",
       "      <td>nenhum empréstimo</td>\n",
       "      <td>-3</td>\n",
       "      <td>0</td>\n",
       "      <td>3</td>\n",
       "      <td>3</td>\n",
       "    </tr>\n",
       "    <tr>\n",
       "      <th>1</th>\n",
       "      <td>5001711</td>\n",
       "      <td>-1</td>\n",
       "      <td>1-29 dias</td>\n",
       "      <td>-3</td>\n",
       "      <td>0</td>\n",
       "      <td>3</td>\n",
       "      <td>2</td>\n",
       "    </tr>\n",
       "    <tr>\n",
       "      <th>2</th>\n",
       "      <td>5001711</td>\n",
       "      <td>-2</td>\n",
       "      <td>1-29 dias</td>\n",
       "      <td>-3</td>\n",
       "      <td>0</td>\n",
       "      <td>3</td>\n",
       "      <td>1</td>\n",
       "    </tr>\n",
       "    <tr>\n",
       "      <th>3</th>\n",
       "      <td>5001711</td>\n",
       "      <td>-3</td>\n",
       "      <td>1-29 dias</td>\n",
       "      <td>-3</td>\n",
       "      <td>0</td>\n",
       "      <td>3</td>\n",
       "      <td>0</td>\n",
       "    </tr>\n",
       "    <tr>\n",
       "      <th>4</th>\n",
       "      <td>5001712</td>\n",
       "      <td>0</td>\n",
       "      <td>pagamento realizado</td>\n",
       "      <td>-18</td>\n",
       "      <td>0</td>\n",
       "      <td>18</td>\n",
       "      <td>18</td>\n",
       "    </tr>\n",
       "  </tbody>\n",
       "</table>\n",
       "</div>"
      ],
      "text/plain": [
       "   ID_Cliente  Mes_referencia         Faixa_atraso  Abertura  Final  Janela  \\\n",
       "0     5001711               0    nenhum empréstimo        -3      0       3   \n",
       "1     5001711              -1            1-29 dias        -3      0       3   \n",
       "2     5001711              -2            1-29 dias        -3      0       3   \n",
       "3     5001711              -3            1-29 dias        -3      0       3   \n",
       "4     5001712               0  pagamento realizado       -18      0      18   \n",
       "\n",
       "   MOB  \n",
       "0    3  \n",
       "1    2  \n",
       "2    1  \n",
       "3    0  \n",
       "4   18  "
      ]
     },
     "execution_count": 55,
     "metadata": {},
     "output_type": "execute_result"
    }
   ],
   "source": [
    "#MOB (Month of Book): Along the columns, we use a dimension known as month on book (MOB). MOB is the number of months since \n",
    "#our vintages acquisition point. ... In our model, each rate is based on the cumulative number of customers who activated \n",
    "#over the total number of customers acquired in that vintage month.\n",
    "#referência: https://charting-ahead.corsairs.network/vintage-analysis-a-visual-primer-490eff0dcb5a\n",
    "df_clientes_aprovados['MOB'] = df_clientes_aprovados['Mes_referencia'] - df_clientes_aprovados['Abertura']\n",
    "df_clientes_aprovados.head()"
   ]
  },
  {
   "cell_type": "code",
   "execution_count": 56,
   "metadata": {},
   "outputs": [
    {
     "data": {
      "text/html": [
       "<div>\n",
       "<style scoped>\n",
       "    .dataframe tbody tr th:only-of-type {\n",
       "        vertical-align: middle;\n",
       "    }\n",
       "\n",
       "    .dataframe tbody tr th {\n",
       "        vertical-align: top;\n",
       "    }\n",
       "\n",
       "    .dataframe thead th {\n",
       "        text-align: right;\n",
       "    }\n",
       "</style>\n",
       "<table border=\"1\" class=\"dataframe\">\n",
       "  <thead>\n",
       "    <tr style=\"text-align: right;\">\n",
       "      <th></th>\n",
       "      <th>ID_Cliente</th>\n",
       "      <th>Mes_referencia</th>\n",
       "      <th>Faixa_atraso</th>\n",
       "      <th>Abertura</th>\n",
       "      <th>Final</th>\n",
       "      <th>Janela</th>\n",
       "      <th>MOB</th>\n",
       "      <th>Ind_Faixa_atraso</th>\n",
       "    </tr>\n",
       "  </thead>\n",
       "  <tbody>\n",
       "    <tr>\n",
       "      <th>0</th>\n",
       "      <td>5001711</td>\n",
       "      <td>0</td>\n",
       "      <td>nenhum empréstimo</td>\n",
       "      <td>-3</td>\n",
       "      <td>0</td>\n",
       "      <td>3</td>\n",
       "      <td>3</td>\n",
       "      <td>0</td>\n",
       "    </tr>\n",
       "    <tr>\n",
       "      <th>1</th>\n",
       "      <td>5001711</td>\n",
       "      <td>-1</td>\n",
       "      <td>1-29 dias</td>\n",
       "      <td>-3</td>\n",
       "      <td>0</td>\n",
       "      <td>3</td>\n",
       "      <td>2</td>\n",
       "      <td>2</td>\n",
       "    </tr>\n",
       "    <tr>\n",
       "      <th>2</th>\n",
       "      <td>5001711</td>\n",
       "      <td>-2</td>\n",
       "      <td>1-29 dias</td>\n",
       "      <td>-3</td>\n",
       "      <td>0</td>\n",
       "      <td>3</td>\n",
       "      <td>1</td>\n",
       "      <td>2</td>\n",
       "    </tr>\n",
       "    <tr>\n",
       "      <th>3</th>\n",
       "      <td>5001711</td>\n",
       "      <td>-3</td>\n",
       "      <td>1-29 dias</td>\n",
       "      <td>-3</td>\n",
       "      <td>0</td>\n",
       "      <td>3</td>\n",
       "      <td>0</td>\n",
       "      <td>2</td>\n",
       "    </tr>\n",
       "    <tr>\n",
       "      <th>4</th>\n",
       "      <td>5001712</td>\n",
       "      <td>0</td>\n",
       "      <td>pagamento realizado</td>\n",
       "      <td>-18</td>\n",
       "      <td>0</td>\n",
       "      <td>18</td>\n",
       "      <td>18</td>\n",
       "      <td>1</td>\n",
       "    </tr>\n",
       "  </tbody>\n",
       "</table>\n",
       "</div>"
      ],
      "text/plain": [
       "   ID_Cliente  Mes_referencia         Faixa_atraso  Abertura  Final  Janela  \\\n",
       "0     5001711               0    nenhum empréstimo        -3      0       3   \n",
       "1     5001711              -1            1-29 dias        -3      0       3   \n",
       "2     5001711              -2            1-29 dias        -3      0       3   \n",
       "3     5001711              -3            1-29 dias        -3      0       3   \n",
       "4     5001712               0  pagamento realizado       -18      0      18   \n",
       "\n",
       "   MOB  Ind_Faixa_atraso  \n",
       "0    3                 0  \n",
       "1    2                 2  \n",
       "2    1                 2  \n",
       "3    0                 2  \n",
       "4   18                 1  "
      ]
     },
     "execution_count": 56,
     "metadata": {},
     "output_type": "execute_result"
    }
   ],
   "source": [
    "#transformar a coluna Faixa_atraso em numérica\n",
    "dict_faixa_atraso_ind ={'nenhum empréstimo': 0, 'pagamento realizado': 1,\n",
    "                        '1-29 dias': 2, '30-59 dias': 3, '60-89 dias': 4,\n",
    "                        '90-119 dias': 5, '120-149 dias': 6, '>150 dias': 7}\n",
    "                        \n",
    "df_clientes_aprovados['Ind_Faixa_atraso'] = df_clientes_aprovados['Faixa_atraso'].map(dict_faixa_atraso_ind)\n",
    "df_clientes_aprovados.head()"
   ]
  },
  {
   "cell_type": "markdown",
   "metadata": {},
   "source": [
    "### como é definido a coluna Mau para atrasos maiores que 60 dias ?\n",
    "\n",
    "### Vamos utilizar o método apply para iterar por cada linha do dataframe df_registros_creditos, e vamos utilizar o lambda para criar uma lógica, e essa lógica vai ser aplicada em X, mas o que é X ? X vai ser um DataFrame composto apenas por uma linha de registro, a logíca que vai ser aplicada é um if que se a coluna Ind_Faixa_atraso tiver o valor maior que 3, indicando que existe um atraso maior que 60 dias ,retorna 1 e 0 caso o contrario.\n",
    "\n",
    "### o retorno dessa função apply vai uma Serie e vai guardar 1 representando que aquele cliente foi um mau pagador naquele periodo ou 0 caso o cliente não tenha sido o mau pagador, vamos salvar estes valores em uma nova coluna chamada Mau."
   ]
  },
  {
   "cell_type": "code",
   "execution_count": 57,
   "metadata": {},
   "outputs": [
    {
     "data": {
      "text/html": [
       "<div>\n",
       "<style scoped>\n",
       "    .dataframe tbody tr th:only-of-type {\n",
       "        vertical-align: middle;\n",
       "    }\n",
       "\n",
       "    .dataframe tbody tr th {\n",
       "        vertical-align: top;\n",
       "    }\n",
       "\n",
       "    .dataframe thead th {\n",
       "        text-align: right;\n",
       "    }\n",
       "</style>\n",
       "<table border=\"1\" class=\"dataframe\">\n",
       "  <thead>\n",
       "    <tr style=\"text-align: right;\">\n",
       "      <th></th>\n",
       "      <th>ID_Cliente</th>\n",
       "      <th>Mes_referencia</th>\n",
       "      <th>Faixa_atraso</th>\n",
       "      <th>Abertura</th>\n",
       "      <th>Final</th>\n",
       "      <th>Janela</th>\n",
       "      <th>MOB</th>\n",
       "      <th>Ind_Faixa_atraso</th>\n",
       "      <th>Mau</th>\n",
       "    </tr>\n",
       "  </thead>\n",
       "  <tbody>\n",
       "    <tr>\n",
       "      <th>0</th>\n",
       "      <td>5001711</td>\n",
       "      <td>0</td>\n",
       "      <td>nenhum empréstimo</td>\n",
       "      <td>-3</td>\n",
       "      <td>0</td>\n",
       "      <td>3</td>\n",
       "      <td>3</td>\n",
       "      <td>0</td>\n",
       "      <td>0</td>\n",
       "    </tr>\n",
       "    <tr>\n",
       "      <th>1</th>\n",
       "      <td>5001711</td>\n",
       "      <td>-1</td>\n",
       "      <td>1-29 dias</td>\n",
       "      <td>-3</td>\n",
       "      <td>0</td>\n",
       "      <td>3</td>\n",
       "      <td>2</td>\n",
       "      <td>2</td>\n",
       "      <td>0</td>\n",
       "    </tr>\n",
       "    <tr>\n",
       "      <th>2</th>\n",
       "      <td>5001711</td>\n",
       "      <td>-2</td>\n",
       "      <td>1-29 dias</td>\n",
       "      <td>-3</td>\n",
       "      <td>0</td>\n",
       "      <td>3</td>\n",
       "      <td>1</td>\n",
       "      <td>2</td>\n",
       "      <td>0</td>\n",
       "    </tr>\n",
       "    <tr>\n",
       "      <th>3</th>\n",
       "      <td>5001711</td>\n",
       "      <td>-3</td>\n",
       "      <td>1-29 dias</td>\n",
       "      <td>-3</td>\n",
       "      <td>0</td>\n",
       "      <td>3</td>\n",
       "      <td>0</td>\n",
       "      <td>2</td>\n",
       "      <td>0</td>\n",
       "    </tr>\n",
       "    <tr>\n",
       "      <th>4</th>\n",
       "      <td>5001712</td>\n",
       "      <td>0</td>\n",
       "      <td>pagamento realizado</td>\n",
       "      <td>-18</td>\n",
       "      <td>0</td>\n",
       "      <td>18</td>\n",
       "      <td>18</td>\n",
       "      <td>1</td>\n",
       "      <td>0</td>\n",
       "    </tr>\n",
       "  </tbody>\n",
       "</table>\n",
       "</div>"
      ],
      "text/plain": [
       "   ID_Cliente  Mes_referencia         Faixa_atraso  Abertura  Final  Janela  \\\n",
       "0     5001711               0    nenhum empréstimo        -3      0       3   \n",
       "1     5001711              -1            1-29 dias        -3      0       3   \n",
       "2     5001711              -2            1-29 dias        -3      0       3   \n",
       "3     5001711              -3            1-29 dias        -3      0       3   \n",
       "4     5001712               0  pagamento realizado       -18      0      18   \n",
       "\n",
       "   MOB  Ind_Faixa_atraso  Mau  \n",
       "0    3                 0    0  \n",
       "1    2                 2    0  \n",
       "2    1                 2    0  \n",
       "3    0                 2    0  \n",
       "4   18                 1    0  "
      ]
     },
     "execution_count": 57,
     "metadata": {},
     "output_type": "execute_result"
    }
   ],
   "source": [
    "df_clientes_aprovados['Mau'] = df_clientes_aprovados.apply(lambda x: 1 if x['Ind_Faixa_atraso'] > 3 else 0, axis=1)\n",
    "df_clientes_aprovados.head()"
   ]
  }
 ],
 "metadata": {
  "interpreter": {
   "hash": "63fd5069d213b44bf678585dea6b12cceca9941eaf7f819626cde1f2670de90d"
  },
  "kernelspec": {
   "display_name": "Python 3.9.2 64-bit",
   "name": "python3"
  },
  "language_info": {
   "codemirror_mode": {
    "name": "ipython",
    "version": 3
   },
   "file_extension": ".py",
   "mimetype": "text/x-python",
   "name": "python",
   "nbconvert_exporter": "python",
   "pygments_lexer": "ipython3",
   "version": "3.9.2"
  },
  "orig_nbformat": 4
 },
 "nbformat": 4,
 "nbformat_minor": 2
}
