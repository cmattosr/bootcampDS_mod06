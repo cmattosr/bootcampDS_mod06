{
 "cells": [
  {
   "cell_type": "code",
   "execution_count": 1,
   "source": [
    "import pandas as pd"
   ],
   "outputs": [],
   "metadata": {}
  },
  {
   "cell_type": "code",
   "execution_count": 3,
   "source": [
    "df_clientespd.read_csv(\"https://github.com/cmattosr/bootcampDS_mod06/raw/main/dados/clientes_cadastrados.csv\")"
   ],
   "outputs": [
    {
     "output_type": "execute_result",
     "data": {
      "text/plain": [
       "        ID_Cliente Genero  Tem_Carro  Tem_Casa_Propria  Qtd_Filhos  \\\n",
       "0          5008804      H          1                 1           0   \n",
       "1          5008805      H          1                 1           0   \n",
       "2          5008806      H          1                 1           0   \n",
       "3          5008808      M          0                 1           0   \n",
       "4          5008809      M          0                 1           0   \n",
       "...            ...    ...        ...               ...         ...   \n",
       "438552     6840104      H          0                 1           0   \n",
       "438553     6840222      M          0                 0           0   \n",
       "438554     6841878      M          0                 0           0   \n",
       "438555     6842765      M          0                 1           0   \n",
       "438556     6842885      M          0                 1           0   \n",
       "\n",
       "        Rendimento_Anual   Categoria_de_renda Grau_Escolaridade  \\\n",
       "0               427500.0            Empregado   Ensino superior   \n",
       "1               427500.0            Empregado   Ensino superior   \n",
       "2               112500.0            Empregado      Ensino medio   \n",
       "3               270000.0  Associado comercial      Ensino medio   \n",
       "4               270000.0  Associado comercial      Ensino medio   \n",
       "...                  ...                  ...               ...   \n",
       "438552          135000.0          Pensionista      Ensino medio   \n",
       "438553          103500.0            Empregado      Ensino medio   \n",
       "438554           54000.0  Associado comercial   Ensino superior   \n",
       "438555           72000.0          Pensionista      Ensino medio   \n",
       "438556          121500.0            Empregado      Ensino medio   \n",
       "\n",
       "         Estado_Civil           Moradia  Idade  Tem_Celular  \\\n",
       "0       Uniao estavel           Alugado   33.0            1   \n",
       "1       Uniao estavel           Alugado   33.0            1   \n",
       "2              Casado      Casa propria   59.0            1   \n",
       "3            Solteiro      Casa propria   52.0            1   \n",
       "4            Solteiro      Casa propria   52.0            1   \n",
       "...               ...               ...    ...          ...   \n",
       "438552       Separado      Casa propria   62.0            1   \n",
       "438553       Solteiro      Casa propria   44.0            1   \n",
       "438554       Solteiro  Mora com os pais   22.0            1   \n",
       "438555         Casado      Casa propria   59.0            1   \n",
       "438556         Casado      Casa propria   52.0            1   \n",
       "\n",
       "        Tem_telefone_trabalho  Tem_telefone_fixo  Tem_email          Ocupacao  \\\n",
       "0                           1                  0          0            Outros   \n",
       "1                           1                  0          0            Outros   \n",
       "2                           0                  0          0         Seguranca   \n",
       "3                           0                  1          1             Venda   \n",
       "4                           0                  1          1             Venda   \n",
       "...                       ...                ...        ...               ...   \n",
       "438552                      0                  0          0            Outros   \n",
       "438553                      0                  0          0  Construcao Civil   \n",
       "438554                      1                  0          0             Venda   \n",
       "438555                      0                  0          0            Outros   \n",
       "438556                      0                  1          0             Venda   \n",
       "\n",
       "        Tamanho_Familia  Anos_empregado  \n",
       "0                   2.0            12.4  \n",
       "1                   2.0            12.4  \n",
       "2                   2.0             3.1  \n",
       "3                   1.0             8.4  \n",
       "4                   1.0             8.4  \n",
       "...                 ...             ...  \n",
       "438552              1.0         -1000.7  \n",
       "438553              1.0             8.2  \n",
       "438554              1.0             1.0  \n",
       "438555              2.0         -1000.7  \n",
       "438556              2.0             3.3  \n",
       "\n",
       "[438557 rows x 18 columns]"
      ],
      "text/html": [
       "<div>\n",
       "<style scoped>\n",
       "    .dataframe tbody tr th:only-of-type {\n",
       "        vertical-align: middle;\n",
       "    }\n",
       "\n",
       "    .dataframe tbody tr th {\n",
       "        vertical-align: top;\n",
       "    }\n",
       "\n",
       "    .dataframe thead th {\n",
       "        text-align: right;\n",
       "    }\n",
       "</style>\n",
       "<table border=\"1\" class=\"dataframe\">\n",
       "  <thead>\n",
       "    <tr style=\"text-align: right;\">\n",
       "      <th></th>\n",
       "      <th>ID_Cliente</th>\n",
       "      <th>Genero</th>\n",
       "      <th>Tem_Carro</th>\n",
       "      <th>Tem_Casa_Propria</th>\n",
       "      <th>Qtd_Filhos</th>\n",
       "      <th>Rendimento_Anual</th>\n",
       "      <th>Categoria_de_renda</th>\n",
       "      <th>Grau_Escolaridade</th>\n",
       "      <th>Estado_Civil</th>\n",
       "      <th>Moradia</th>\n",
       "      <th>Idade</th>\n",
       "      <th>Tem_Celular</th>\n",
       "      <th>Tem_telefone_trabalho</th>\n",
       "      <th>Tem_telefone_fixo</th>\n",
       "      <th>Tem_email</th>\n",
       "      <th>Ocupacao</th>\n",
       "      <th>Tamanho_Familia</th>\n",
       "      <th>Anos_empregado</th>\n",
       "    </tr>\n",
       "  </thead>\n",
       "  <tbody>\n",
       "    <tr>\n",
       "      <th>0</th>\n",
       "      <td>5008804</td>\n",
       "      <td>H</td>\n",
       "      <td>1</td>\n",
       "      <td>1</td>\n",
       "      <td>0</td>\n",
       "      <td>427500.0</td>\n",
       "      <td>Empregado</td>\n",
       "      <td>Ensino superior</td>\n",
       "      <td>Uniao estavel</td>\n",
       "      <td>Alugado</td>\n",
       "      <td>33.0</td>\n",
       "      <td>1</td>\n",
       "      <td>1</td>\n",
       "      <td>0</td>\n",
       "      <td>0</td>\n",
       "      <td>Outros</td>\n",
       "      <td>2.0</td>\n",
       "      <td>12.4</td>\n",
       "    </tr>\n",
       "    <tr>\n",
       "      <th>1</th>\n",
       "      <td>5008805</td>\n",
       "      <td>H</td>\n",
       "      <td>1</td>\n",
       "      <td>1</td>\n",
       "      <td>0</td>\n",
       "      <td>427500.0</td>\n",
       "      <td>Empregado</td>\n",
       "      <td>Ensino superior</td>\n",
       "      <td>Uniao estavel</td>\n",
       "      <td>Alugado</td>\n",
       "      <td>33.0</td>\n",
       "      <td>1</td>\n",
       "      <td>1</td>\n",
       "      <td>0</td>\n",
       "      <td>0</td>\n",
       "      <td>Outros</td>\n",
       "      <td>2.0</td>\n",
       "      <td>12.4</td>\n",
       "    </tr>\n",
       "    <tr>\n",
       "      <th>2</th>\n",
       "      <td>5008806</td>\n",
       "      <td>H</td>\n",
       "      <td>1</td>\n",
       "      <td>1</td>\n",
       "      <td>0</td>\n",
       "      <td>112500.0</td>\n",
       "      <td>Empregado</td>\n",
       "      <td>Ensino medio</td>\n",
       "      <td>Casado</td>\n",
       "      <td>Casa propria</td>\n",
       "      <td>59.0</td>\n",
       "      <td>1</td>\n",
       "      <td>0</td>\n",
       "      <td>0</td>\n",
       "      <td>0</td>\n",
       "      <td>Seguranca</td>\n",
       "      <td>2.0</td>\n",
       "      <td>3.1</td>\n",
       "    </tr>\n",
       "    <tr>\n",
       "      <th>3</th>\n",
       "      <td>5008808</td>\n",
       "      <td>M</td>\n",
       "      <td>0</td>\n",
       "      <td>1</td>\n",
       "      <td>0</td>\n",
       "      <td>270000.0</td>\n",
       "      <td>Associado comercial</td>\n",
       "      <td>Ensino medio</td>\n",
       "      <td>Solteiro</td>\n",
       "      <td>Casa propria</td>\n",
       "      <td>52.0</td>\n",
       "      <td>1</td>\n",
       "      <td>0</td>\n",
       "      <td>1</td>\n",
       "      <td>1</td>\n",
       "      <td>Venda</td>\n",
       "      <td>1.0</td>\n",
       "      <td>8.4</td>\n",
       "    </tr>\n",
       "    <tr>\n",
       "      <th>4</th>\n",
       "      <td>5008809</td>\n",
       "      <td>M</td>\n",
       "      <td>0</td>\n",
       "      <td>1</td>\n",
       "      <td>0</td>\n",
       "      <td>270000.0</td>\n",
       "      <td>Associado comercial</td>\n",
       "      <td>Ensino medio</td>\n",
       "      <td>Solteiro</td>\n",
       "      <td>Casa propria</td>\n",
       "      <td>52.0</td>\n",
       "      <td>1</td>\n",
       "      <td>0</td>\n",
       "      <td>1</td>\n",
       "      <td>1</td>\n",
       "      <td>Venda</td>\n",
       "      <td>1.0</td>\n",
       "      <td>8.4</td>\n",
       "    </tr>\n",
       "    <tr>\n",
       "      <th>...</th>\n",
       "      <td>...</td>\n",
       "      <td>...</td>\n",
       "      <td>...</td>\n",
       "      <td>...</td>\n",
       "      <td>...</td>\n",
       "      <td>...</td>\n",
       "      <td>...</td>\n",
       "      <td>...</td>\n",
       "      <td>...</td>\n",
       "      <td>...</td>\n",
       "      <td>...</td>\n",
       "      <td>...</td>\n",
       "      <td>...</td>\n",
       "      <td>...</td>\n",
       "      <td>...</td>\n",
       "      <td>...</td>\n",
       "      <td>...</td>\n",
       "      <td>...</td>\n",
       "    </tr>\n",
       "    <tr>\n",
       "      <th>438552</th>\n",
       "      <td>6840104</td>\n",
       "      <td>H</td>\n",
       "      <td>0</td>\n",
       "      <td>1</td>\n",
       "      <td>0</td>\n",
       "      <td>135000.0</td>\n",
       "      <td>Pensionista</td>\n",
       "      <td>Ensino medio</td>\n",
       "      <td>Separado</td>\n",
       "      <td>Casa propria</td>\n",
       "      <td>62.0</td>\n",
       "      <td>1</td>\n",
       "      <td>0</td>\n",
       "      <td>0</td>\n",
       "      <td>0</td>\n",
       "      <td>Outros</td>\n",
       "      <td>1.0</td>\n",
       "      <td>-1000.7</td>\n",
       "    </tr>\n",
       "    <tr>\n",
       "      <th>438553</th>\n",
       "      <td>6840222</td>\n",
       "      <td>M</td>\n",
       "      <td>0</td>\n",
       "      <td>0</td>\n",
       "      <td>0</td>\n",
       "      <td>103500.0</td>\n",
       "      <td>Empregado</td>\n",
       "      <td>Ensino medio</td>\n",
       "      <td>Solteiro</td>\n",
       "      <td>Casa propria</td>\n",
       "      <td>44.0</td>\n",
       "      <td>1</td>\n",
       "      <td>0</td>\n",
       "      <td>0</td>\n",
       "      <td>0</td>\n",
       "      <td>Construcao Civil</td>\n",
       "      <td>1.0</td>\n",
       "      <td>8.2</td>\n",
       "    </tr>\n",
       "    <tr>\n",
       "      <th>438554</th>\n",
       "      <td>6841878</td>\n",
       "      <td>M</td>\n",
       "      <td>0</td>\n",
       "      <td>0</td>\n",
       "      <td>0</td>\n",
       "      <td>54000.0</td>\n",
       "      <td>Associado comercial</td>\n",
       "      <td>Ensino superior</td>\n",
       "      <td>Solteiro</td>\n",
       "      <td>Mora com os pais</td>\n",
       "      <td>22.0</td>\n",
       "      <td>1</td>\n",
       "      <td>1</td>\n",
       "      <td>0</td>\n",
       "      <td>0</td>\n",
       "      <td>Venda</td>\n",
       "      <td>1.0</td>\n",
       "      <td>1.0</td>\n",
       "    </tr>\n",
       "    <tr>\n",
       "      <th>438555</th>\n",
       "      <td>6842765</td>\n",
       "      <td>M</td>\n",
       "      <td>0</td>\n",
       "      <td>1</td>\n",
       "      <td>0</td>\n",
       "      <td>72000.0</td>\n",
       "      <td>Pensionista</td>\n",
       "      <td>Ensino medio</td>\n",
       "      <td>Casado</td>\n",
       "      <td>Casa propria</td>\n",
       "      <td>59.0</td>\n",
       "      <td>1</td>\n",
       "      <td>0</td>\n",
       "      <td>0</td>\n",
       "      <td>0</td>\n",
       "      <td>Outros</td>\n",
       "      <td>2.0</td>\n",
       "      <td>-1000.7</td>\n",
       "    </tr>\n",
       "    <tr>\n",
       "      <th>438556</th>\n",
       "      <td>6842885</td>\n",
       "      <td>M</td>\n",
       "      <td>0</td>\n",
       "      <td>1</td>\n",
       "      <td>0</td>\n",
       "      <td>121500.0</td>\n",
       "      <td>Empregado</td>\n",
       "      <td>Ensino medio</td>\n",
       "      <td>Casado</td>\n",
       "      <td>Casa propria</td>\n",
       "      <td>52.0</td>\n",
       "      <td>1</td>\n",
       "      <td>0</td>\n",
       "      <td>1</td>\n",
       "      <td>0</td>\n",
       "      <td>Venda</td>\n",
       "      <td>2.0</td>\n",
       "      <td>3.3</td>\n",
       "    </tr>\n",
       "  </tbody>\n",
       "</table>\n",
       "<p>438557 rows × 18 columns</p>\n",
       "</div>"
      ]
     },
     "metadata": {},
     "execution_count": 3
    }
   ],
   "metadata": {}
  },
  {
   "cell_type": "code",
   "execution_count": 4,
   "source": [
    "df_clientes_cadastrados.shape"
   ],
   "outputs": [
    {
     "output_type": "execute_result",
     "data": {
      "text/plain": [
       "(438557, 18)"
      ]
     },
     "metadata": {},
     "execution_count": 4
    }
   ],
   "metadata": {}
  },
  {
   "cell_type": "code",
   "execution_count": 7,
   "source": [
    "#Verificar se há clientes repetidos\r\n",
    "df_clientes_cadastrados[\"ID_Cliente\"].value_counts()"
   ],
   "outputs": [
    {
     "output_type": "execute_result",
     "data": {
      "text/plain": [
       "7045794    2\n",
       "7636389    2\n",
       "7046068    2\n",
       "7052812    2\n",
       "7742298    2\n",
       "          ..\n",
       "5709384    1\n",
       "5727815    1\n",
       "5729862    1\n",
       "6780485    1\n",
       "6293503    1\n",
       "Name: ID_Cliente, Length: 438510, dtype: int64"
      ]
     },
     "metadata": {},
     "execution_count": 7
    }
   ],
   "metadata": {}
  },
  {
   "cell_type": "code",
   "execution_count": 9,
   "source": [
    "#Há clientes repetidos neste dataframe (ID_Cliente)\r\n",
    "\r\n",
    "#Verificar se ha linhas duplicadas (utilizamos o sum, se houver duplicatas será somado o valor 1 para cada ocorrência)\r\n",
    "df_clientes_cadastrados.duplicated().sum()"
   ],
   "outputs": [
    {
     "output_type": "execute_result",
     "data": {
      "text/plain": [
       "0"
      ]
     },
     "metadata": {},
     "execution_count": 9
    }
   ],
   "metadata": {}
  },
  {
   "cell_type": "code",
   "execution_count": 16,
   "source": [
    "#não há linhas duplicadas\r\n",
    "\r\n",
    "#verificar quanto são os clientes repetidos, o keep=False contabiliza todas as ocorrências com IDs iguais, o valor default True contabiliza apenas a duplicata\r\n",
    "df_clientes_cadastrados[df_clientes_cadastrados[\"ID_Cliente\"].duplicated(keep=False)].shape"
   ],
   "outputs": [
    {
     "output_type": "execute_result",
     "data": {
      "text/plain": [
       "(94, 18)"
      ]
     },
     "metadata": {},
     "execution_count": 16
    }
   ],
   "metadata": {}
  },
  {
   "cell_type": "code",
   "execution_count": 19,
   "source": [
    "#Há 94 clientes repetidos (na verdade 47 aparecem duas vezes)\r\n",
    "#Essas linhas serão removidas pois são irrelevantes considerando o total do dataframe (94 repetidos em 438557 linhas), mas serão armazenadas separadamente\r\n",
    "id_repetidos = df_clientes_cadastrados[df_clientes_cadastrados[\"ID_Cliente\"].duplicated(keep=False)][\"ID_Cliente\"]\r\n",
    "id_repetidos"
   ],
   "outputs": [
    {
     "output_type": "execute_result",
     "data": {
      "text/plain": [
       "421211    7702516\n",
       "421268    7602432\n",
       "421349    7602432\n",
       "421464    7836971\n",
       "421698    7213374\n",
       "           ...   \n",
       "433158    7282535\n",
       "433159    7742853\n",
       "433217    7135270\n",
       "433666    7091721\n",
       "433789    7618285\n",
       "Name: ID_Cliente, Length: 94, dtype: int64"
      ]
     },
     "metadata": {},
     "execution_count": 19
    }
   ],
   "metadata": {}
  },
  {
   "cell_type": "markdown",
   "source": [
    "## Desafio 01: Explorar o motivo pelo qual há clientes repetidos no dataframe"
   ],
   "metadata": {}
  },
  {
   "cell_type": "code",
   "execution_count": 20,
   "source": [
    "#remover as linhas com clientes repetidos, que já estão armazenados em id_repetidos\r\n",
    "df_clientes_cadastrados_unicos = df_clientes_cadastrados.drop(id_repetidos.index)\r\n",
    "df_clientes_cadastrados_unicos.shape"
   ],
   "outputs": [
    {
     "output_type": "execute_result",
     "data": {
      "text/plain": [
       "(438463, 18)"
      ]
     },
     "metadata": {},
     "execution_count": 20
    }
   ],
   "metadata": {}
  },
  {
   "cell_type": "code",
   "execution_count": 23,
   "source": [
    "#checar se ainda há clientes repetidos\r\n",
    "df_clientes_cadastrados_unicos[\"ID_Cliente\"].value_counts()"
   ],
   "outputs": [
    {
     "output_type": "execute_result",
     "data": {
      "text/plain": [
       "6291456    1\n",
       "6480139    1\n",
       "6486280    1\n",
       "5409030    1\n",
       "6463747    1\n",
       "          ..\n",
       "6569516    1\n",
       "6690720    1\n",
       "6583845    1\n",
       "6575649    1\n",
       "6293503    1\n",
       "Name: ID_Cliente, Length: 438463, dtype: int64"
      ]
     },
     "metadata": {},
     "execution_count": 23
    }
   ],
   "metadata": {}
  },
  {
   "cell_type": "code",
   "execution_count": 25,
   "source": [
    "#verificar se há valores nulos\r\n",
    "df_clientes_cadastrados_unicos.isnull().sum()"
   ],
   "outputs": [
    {
     "output_type": "execute_result",
     "data": {
      "text/plain": [
       "ID_Cliente               0\n",
       "Genero                   0\n",
       "Tem_Carro                0\n",
       "Tem_Casa_Propria         0\n",
       "Qtd_Filhos               0\n",
       "Rendimento_Anual         0\n",
       "Categoria_de_renda       0\n",
       "Grau_Escolaridade        0\n",
       "Estado_Civil             0\n",
       "Moradia                  0\n",
       "Idade                    0\n",
       "Tem_Celular              0\n",
       "Tem_telefone_trabalho    0\n",
       "Tem_telefone_fixo        0\n",
       "Tem_email                0\n",
       "Ocupacao                 0\n",
       "Tamanho_Familia          0\n",
       "Anos_empregado           0\n",
       "dtype: int64"
      ]
     },
     "metadata": {},
     "execution_count": 25
    }
   ],
   "metadata": {}
  },
  {
   "cell_type": "code",
   "execution_count": 26,
   "source": [
    "#não há valores nulos\r\n",
    "\r\n",
    "#analisar o dataframe\r\n",
    "df_clientes_cadastrados_unicos.info()"
   ],
   "outputs": [
    {
     "output_type": "stream",
     "name": "stdout",
     "text": [
      "<class 'pandas.core.frame.DataFrame'>\n",
      "Int64Index: 438463 entries, 0 to 438556\n",
      "Data columns (total 18 columns):\n",
      " #   Column                 Non-Null Count   Dtype  \n",
      "---  ------                 --------------   -----  \n",
      " 0   ID_Cliente             438463 non-null  int64  \n",
      " 1   Genero                 438463 non-null  object \n",
      " 2   Tem_Carro              438463 non-null  int64  \n",
      " 3   Tem_Casa_Propria       438463 non-null  int64  \n",
      " 4   Qtd_Filhos             438463 non-null  int64  \n",
      " 5   Rendimento_Anual       438463 non-null  float64\n",
      " 6   Categoria_de_renda     438463 non-null  object \n",
      " 7   Grau_Escolaridade      438463 non-null  object \n",
      " 8   Estado_Civil           438463 non-null  object \n",
      " 9   Moradia                438463 non-null  object \n",
      " 10  Idade                  438463 non-null  float64\n",
      " 11  Tem_Celular            438463 non-null  int64  \n",
      " 12  Tem_telefone_trabalho  438463 non-null  int64  \n",
      " 13  Tem_telefone_fixo      438463 non-null  int64  \n",
      " 14  Tem_email              438463 non-null  int64  \n",
      " 15  Ocupacao               438463 non-null  object \n",
      " 16  Tamanho_Familia        438463 non-null  float64\n",
      " 17  Anos_empregado         438463 non-null  float64\n",
      "dtypes: float64(4), int64(8), object(6)\n",
      "memory usage: 79.7+ MB\n"
     ]
    }
   ],
   "metadata": {}
  },
  {
   "cell_type": "markdown",
   "source": [
    "## Desafio 02: Explorar as colunas (features), identificar se são contínuas, categóricas ou binárias"
   ],
   "metadata": {}
  }
 ],
 "metadata": {
  "orig_nbformat": 4,
  "language_info": {
   "name": "python",
   "version": "3.9.2",
   "mimetype": "text/x-python",
   "codemirror_mode": {
    "name": "ipython",
    "version": 3
   },
   "pygments_lexer": "ipython3",
   "nbconvert_exporter": "python",
   "file_extension": ".py"
  },
  "kernelspec": {
   "name": "python3",
   "display_name": "Python 3.9.2 64-bit"
  },
  "interpreter": {
   "hash": "63fd5069d213b44bf678585dea6b12cceca9941eaf7f819626cde1f2670de90d"
  }
 },
 "nbformat": 4,
 "nbformat_minor": 2
}